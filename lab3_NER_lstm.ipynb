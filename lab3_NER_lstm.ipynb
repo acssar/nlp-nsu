{
 "cells": [
  {
   "cell_type": "code",
   "execution_count": null,
   "metadata": {
    "colab": {
     "base_uri": "https://localhost:8080/"
    },
    "id": "JWKkbaFlX5tH",
    "outputId": "635ae281-fbf7-4784-b975-66bd55732373"
   },
   "outputs": [],
   "source": [
    "!pip install torchtext"
   ]
  },
  {
   "cell_type": "code",
   "execution_count": 6,
   "metadata": {
    "id": "Q1hY0GGFUNCg"
   },
   "outputs": [],
   "source": [
    "import numpy as np\n",
    "import pandas as pd\n",
    "\n",
    "from torchtext.vocab import FastText\n",
    "from torch.utils.data import TensorDataset, DataLoader, Dataset\n",
    "from tqdm.notebook import tqdm\n",
    "\n",
    "import torch\n",
    "import torch.nn as nn\n",
    "import torch.nn.functional as F\n",
    "\n",
    "import matplotlib.pyplot as plt\n",
    "\n"
   ]
  },
  {
   "cell_type": "code",
   "execution_count": null,
   "metadata": {
    "colab": {
     "base_uri": "https://localhost:8080/"
    },
    "id": "JUiJRv3T88mU",
    "outputId": "bfdf01f9-ba1b-47b2-9606-23919542a495"
   },
   "outputs": [],
   "source": [
    "from google.colab import drive\n",
    "drive.mount('/content/drive')"
   ]
  },
  {
   "cell_type": "markdown",
   "metadata": {
    "id": "HwVagZO0UtS_"
   },
   "source": [
    "# Configuration"
   ]
  },
  {
   "cell_type": "code",
   "execution_count": 88,
   "metadata": {
    "id": "JgWMrErrUrtk"
   },
   "outputs": [],
   "source": [
    "EPOCHS = 15\n",
    "SEQ_SIZE = 45\n",
    "BATCH_SIZE = 8\n",
    "SEED = 0\n",
    "EPOCHS = 10"
   ]
  },
  {
   "cell_type": "code",
   "execution_count": 89,
   "metadata": {
    "id": "aLjRKtgQxS7Y"
   },
   "outputs": [],
   "source": [
    "def set_seed(seed):\n",
    "    torch.manual_seed(seed)\n",
    "    torch.backends.cudnn.deterministic = True\n",
    "    torch.backends.cudnn.benchmark = False\n",
    "    np.random.seed(seed)\n",
    "set_seed(SEED)    "
   ]
  },
  {
   "cell_type": "markdown",
   "metadata": {
    "id": "5VaZvY0fUyST"
   },
   "source": [
    "# Preprocessing"
   ]
  },
  {
   "cell_type": "code",
   "execution_count": 90,
   "metadata": {
    "id": "1OHnCDvbUwQH"
   },
   "outputs": [],
   "source": [
    "df = pd.read_csv('/content/drive/MyDrive/NLP/rus.tsv', sep='\\t', encoding='utf8', names=['term', 'tag'])"
   ]
  },
  {
   "cell_type": "code",
   "execution_count": 91,
   "metadata": {
    "colab": {
     "base_uri": "https://localhost:8080/",
     "height": 677
    },
    "id": "mL3_Oe5ikpXq",
    "outputId": "5f83495d-898d-4ce9-8cd3-5ba5a6ca9ac8"
   },
   "outputs": [
    {
     "data": {
      "text/html": [
       "\n",
       "  <div id=\"df-aba320f7-63ea-4707-b942-2b549e540d4a\">\n",
       "    <div class=\"colab-df-container\">\n",
       "      <div>\n",
       "<style scoped>\n",
       "    .dataframe tbody tr th:only-of-type {\n",
       "        vertical-align: middle;\n",
       "    }\n",
       "\n",
       "    .dataframe tbody tr th {\n",
       "        vertical-align: top;\n",
       "    }\n",
       "\n",
       "    .dataframe thead th {\n",
       "        text-align: right;\n",
       "    }\n",
       "</style>\n",
       "<table border=\"1\" class=\"dataframe\">\n",
       "  <thead>\n",
       "    <tr style=\"text-align: right;\">\n",
       "      <th></th>\n",
       "      <th>term</th>\n",
       "      <th>tag</th>\n",
       "    </tr>\n",
       "  </thead>\n",
       "  <tbody>\n",
       "    <tr>\n",
       "      <th>0</th>\n",
       "      <td>Губернатору</td>\n",
       "      <td>O</td>\n",
       "    </tr>\n",
       "    <tr>\n",
       "      <th>1</th>\n",
       "      <td>Подмосковья</td>\n",
       "      <td>B-GPE</td>\n",
       "    </tr>\n",
       "    <tr>\n",
       "      <th>2</th>\n",
       "      <td>прочат</td>\n",
       "      <td>O</td>\n",
       "    </tr>\n",
       "    <tr>\n",
       "      <th>3</th>\n",
       "      <td>скорую</td>\n",
       "      <td>O</td>\n",
       "    </tr>\n",
       "    <tr>\n",
       "      <th>4</th>\n",
       "      <td>отставку</td>\n",
       "      <td>O</td>\n",
       "    </tr>\n",
       "    <tr>\n",
       "      <th>5</th>\n",
       "      <td>Эксперты</td>\n",
       "      <td>O</td>\n",
       "    </tr>\n",
       "    <tr>\n",
       "      <th>6</th>\n",
       "      <td>считают</td>\n",
       "      <td>O</td>\n",
       "    </tr>\n",
       "    <tr>\n",
       "      <th>7</th>\n",
       "      <td>,</td>\n",
       "      <td>O</td>\n",
       "    </tr>\n",
       "    <tr>\n",
       "      <th>8</th>\n",
       "      <td>что</td>\n",
       "      <td>O</td>\n",
       "    </tr>\n",
       "    <tr>\n",
       "      <th>9</th>\n",
       "      <td>позиции</td>\n",
       "      <td>O</td>\n",
       "    </tr>\n",
       "    <tr>\n",
       "      <th>10</th>\n",
       "      <td>Бориса</td>\n",
       "      <td>B-PERSON</td>\n",
       "    </tr>\n",
       "    <tr>\n",
       "      <th>11</th>\n",
       "      <td>Громова</td>\n",
       "      <td>I-PERSON</td>\n",
       "    </tr>\n",
       "    <tr>\n",
       "      <th>12</th>\n",
       "      <td>пошатнулись</td>\n",
       "      <td>O</td>\n",
       "    </tr>\n",
       "    <tr>\n",
       "      <th>13</th>\n",
       "      <td>из-за</td>\n",
       "      <td>O</td>\n",
       "    </tr>\n",
       "    <tr>\n",
       "      <th>14</th>\n",
       "      <td>недавних</td>\n",
       "      <td>O</td>\n",
       "    </tr>\n",
       "    <tr>\n",
       "      <th>15</th>\n",
       "      <td>проблем</td>\n",
       "      <td>O</td>\n",
       "    </tr>\n",
       "    <tr>\n",
       "      <th>16</th>\n",
       "      <td>с</td>\n",
       "      <td>O</td>\n",
       "    </tr>\n",
       "    <tr>\n",
       "      <th>17</th>\n",
       "      <td>энергоснабжением</td>\n",
       "      <td>O</td>\n",
       "    </tr>\n",
       "    <tr>\n",
       "      <th>18</th>\n",
       "      <td>региона</td>\n",
       "      <td>O</td>\n",
       "    </tr>\n",
       "    <tr>\n",
       "      <th>19</th>\n",
       "      <td>.</td>\n",
       "      <td>O</td>\n",
       "    </tr>\n",
       "  </tbody>\n",
       "</table>\n",
       "</div>\n",
       "      <button class=\"colab-df-convert\" onclick=\"convertToInteractive('df-aba320f7-63ea-4707-b942-2b549e540d4a')\"\n",
       "              title=\"Convert this dataframe to an interactive table.\"\n",
       "              style=\"display:none;\">\n",
       "        \n",
       "  <svg xmlns=\"http://www.w3.org/2000/svg\" height=\"24px\"viewBox=\"0 0 24 24\"\n",
       "       width=\"24px\">\n",
       "    <path d=\"M0 0h24v24H0V0z\" fill=\"none\"/>\n",
       "    <path d=\"M18.56 5.44l.94 2.06.94-2.06 2.06-.94-2.06-.94-.94-2.06-.94 2.06-2.06.94zm-11 1L8.5 8.5l.94-2.06 2.06-.94-2.06-.94L8.5 2.5l-.94 2.06-2.06.94zm10 10l.94 2.06.94-2.06 2.06-.94-2.06-.94-.94-2.06-.94 2.06-2.06.94z\"/><path d=\"M17.41 7.96l-1.37-1.37c-.4-.4-.92-.59-1.43-.59-.52 0-1.04.2-1.43.59L10.3 9.45l-7.72 7.72c-.78.78-.78 2.05 0 2.83L4 21.41c.39.39.9.59 1.41.59.51 0 1.02-.2 1.41-.59l7.78-7.78 2.81-2.81c.8-.78.8-2.07 0-2.86zM5.41 20L4 18.59l7.72-7.72 1.47 1.35L5.41 20z\"/>\n",
       "  </svg>\n",
       "      </button>\n",
       "      \n",
       "  <style>\n",
       "    .colab-df-container {\n",
       "      display:flex;\n",
       "      flex-wrap:wrap;\n",
       "      gap: 12px;\n",
       "    }\n",
       "\n",
       "    .colab-df-convert {\n",
       "      background-color: #E8F0FE;\n",
       "      border: none;\n",
       "      border-radius: 50%;\n",
       "      cursor: pointer;\n",
       "      display: none;\n",
       "      fill: #1967D2;\n",
       "      height: 32px;\n",
       "      padding: 0 0 0 0;\n",
       "      width: 32px;\n",
       "    }\n",
       "\n",
       "    .colab-df-convert:hover {\n",
       "      background-color: #E2EBFA;\n",
       "      box-shadow: 0px 1px 2px rgba(60, 64, 67, 0.3), 0px 1px 3px 1px rgba(60, 64, 67, 0.15);\n",
       "      fill: #174EA6;\n",
       "    }\n",
       "\n",
       "    [theme=dark] .colab-df-convert {\n",
       "      background-color: #3B4455;\n",
       "      fill: #D2E3FC;\n",
       "    }\n",
       "\n",
       "    [theme=dark] .colab-df-convert:hover {\n",
       "      background-color: #434B5C;\n",
       "      box-shadow: 0px 1px 3px 1px rgba(0, 0, 0, 0.15);\n",
       "      filter: drop-shadow(0px 1px 2px rgba(0, 0, 0, 0.3));\n",
       "      fill: #FFFFFF;\n",
       "    }\n",
       "  </style>\n",
       "\n",
       "      <script>\n",
       "        const buttonEl =\n",
       "          document.querySelector('#df-aba320f7-63ea-4707-b942-2b549e540d4a button.colab-df-convert');\n",
       "        buttonEl.style.display =\n",
       "          google.colab.kernel.accessAllowed ? 'block' : 'none';\n",
       "\n",
       "        async function convertToInteractive(key) {\n",
       "          const element = document.querySelector('#df-aba320f7-63ea-4707-b942-2b549e540d4a');\n",
       "          const dataTable =\n",
       "            await google.colab.kernel.invokeFunction('convertToInteractive',\n",
       "                                                     [key], {});\n",
       "          if (!dataTable) return;\n",
       "\n",
       "          const docLinkHtml = 'Like what you see? Visit the ' +\n",
       "            '<a target=\"_blank\" href=https://colab.research.google.com/notebooks/data_table.ipynb>data table notebook</a>'\n",
       "            + ' to learn more about interactive tables.';\n",
       "          element.innerHTML = '';\n",
       "          dataTable['output_type'] = 'display_data';\n",
       "          await google.colab.output.renderOutput(dataTable, element);\n",
       "          const docLink = document.createElement('div');\n",
       "          docLink.innerHTML = docLinkHtml;\n",
       "          element.appendChild(docLink);\n",
       "        }\n",
       "      </script>\n",
       "    </div>\n",
       "  </div>\n",
       "  "
      ],
      "text/plain": [
       "                term       tag\n",
       "0        Губернатору         O\n",
       "1        Подмосковья     B-GPE\n",
       "2             прочат         O\n",
       "3             скорую         O\n",
       "4           отставку         O\n",
       "5           Эксперты         O\n",
       "6            считают         O\n",
       "7                  ,         O\n",
       "8                что         O\n",
       "9            позиции         O\n",
       "10            Бориса  B-PERSON\n",
       "11           Громова  I-PERSON\n",
       "12       пошатнулись         O\n",
       "13             из-за         O\n",
       "14          недавних         O\n",
       "15           проблем         O\n",
       "16                 с         O\n",
       "17  энергоснабжением         O\n",
       "18           региона         O\n",
       "19                 .         O"
      ]
     },
     "execution_count": 91,
     "metadata": {},
     "output_type": "execute_result"
    }
   ],
   "source": [
    "df.head(20)"
   ]
  },
  {
   "cell_type": "code",
   "execution_count": 92,
   "metadata": {
    "colab": {
     "base_uri": "https://localhost:8080/"
    },
    "id": "FmaTHwalkZ8W",
    "outputId": "c466e386-a0de-41c1-edcc-d32cf3c5b4d2"
   },
   "outputs": [
    {
     "data": {
      "text/plain": [
       "(29131, 2)"
      ]
     },
     "execution_count": 92,
     "metadata": {},
     "output_type": "execute_result"
    }
   ],
   "source": [
    "df.shape"
   ]
  },
  {
   "cell_type": "code",
   "execution_count": 93,
   "metadata": {
    "colab": {
     "base_uri": "https://localhost:8080/"
    },
    "id": "2m1cIT3YkeFP",
    "outputId": "42db7912-5ba5-43b4-f81e-f30c99edac79"
   },
   "outputs": [
    {
     "data": {
      "text/plain": [
       "array(['O', 'B-GPE', 'B-PERSON', 'I-PERSON', 'B-ORG', 'I-ORG', 'B-DATE',\n",
       "       'I-DATE', 'I-GPE', 'B-QUANTITY', 'I-QUANTITY', 'B-NORP', 'B-LOC',\n",
       "       'I-LOC', 'B-MONEY', 'I-MONEY', 'I-NORP', 'B-PERCENT', 'I-PERCENT',\n",
       "       'B-CARDINAL', 'B-ORDINAL', 'I-CARDINAL', 'B-FAC', 'B-TIME',\n",
       "       'I-TIME', 'B-WORK_OF_ART', 'I-WORK_OF_ART', 'I-FAC', 'B-LANGUAGE',\n",
       "       'I-LANGUAGE', 'B-EVENT', 'I-EVENT', 'B-PRODUCT', 'I-PRODUCT'],\n",
       "      dtype=object)"
      ]
     },
     "execution_count": 93,
     "metadata": {},
     "output_type": "execute_result"
    }
   ],
   "source": [
    "df['tag'].unique()"
   ]
  },
  {
   "cell_type": "code",
   "execution_count": 94,
   "metadata": {
    "colab": {
     "base_uri": "https://localhost:8080/"
    },
    "id": "FjE-nKoJWg2T",
    "outputId": "a2238944-c69d-489a-db99-5ec89cb93fdd"
   },
   "outputs": [
    {
     "data": {
      "text/plain": [
       "9922"
      ]
     },
     "execution_count": 94,
     "metadata": {},
     "output_type": "execute_result"
    }
   ],
   "source": [
    "len(df['term'].unique())"
   ]
  },
  {
   "cell_type": "code",
   "execution_count": 95,
   "metadata": {
    "id": "BDAp4lwy-6Bz"
   },
   "outputs": [],
   "source": [
    "NUM_CLASSES = len(df['tag'].unique())"
   ]
  },
  {
   "cell_type": "code",
   "execution_count": 96,
   "metadata": {
    "colab": {
     "base_uri": "https://localhost:8080/"
    },
    "id": "QCEBC3Eik7rk",
    "outputId": "4ca4c745-f671-4e99-a3cc-e85302efd5bb"
   },
   "outputs": [
    {
     "data": {
      "text/plain": [
       "34"
      ]
     },
     "execution_count": 96,
     "metadata": {},
     "output_type": "execute_result"
    }
   ],
   "source": [
    "NUM_CLASSES"
   ]
  },
  {
   "cell_type": "code",
   "execution_count": 97,
   "metadata": {
    "id": "icKyjQhjW-C1"
   },
   "outputs": [],
   "source": [
    "fasttext = FastText('ru')"
   ]
  },
  {
   "cell_type": "code",
   "execution_count": 98,
   "metadata": {
    "colab": {
     "base_uri": "https://localhost:8080/"
    },
    "id": "FBMOl6L4muX3",
    "outputId": "f2f20c03-64f4-4a05-924a-7b84d2de8192"
   },
   "outputs": [
    {
     "data": {
      "text/plain": [
       "tensor([[ 0.0052,  0.2050,  0.0967,  ...,  0.1653, -0.4463,  0.1018],\n",
       "        [-0.2809,  0.1918, -0.1590,  ..., -0.0307,  0.1229, -0.0039],\n",
       "        [-0.1224,  0.0038,  0.0102,  ..., -0.0170,  0.0301,  0.2176],\n",
       "        ...,\n",
       "        [ 0.2376, -0.3427, -0.0080,  ...,  0.0823,  0.1635,  0.1587],\n",
       "        [-0.1078,  0.4232, -0.1920,  ..., -0.2992, -0.1526, -0.2080],\n",
       "        [ 0.4550, -0.0991,  0.1830,  ..., -0.1233,  0.0128,  0.0392]])"
      ]
     },
     "execution_count": 98,
     "metadata": {},
     "output_type": "execute_result"
    }
   ],
   "source": [
    "fasttext.vectors"
   ]
  },
  {
   "cell_type": "code",
   "execution_count": 99,
   "metadata": {
    "colab": {
     "base_uri": "https://localhost:8080/"
    },
    "id": "DUGFpKtom0RY",
    "outputId": "6d3554b8-550e-44e7-9e38-a1817d27a289"
   },
   "outputs": [
    {
     "name": "stdout",
     "output_type": "stream",
     "text": [
      "tensor([ 1.2314e-01,  2.2269e-01, -1.0699e-01, -9.5853e-02,  3.7299e-01,\n",
      "        -1.1383e-01,  9.5147e-02, -3.7645e-01,  1.0970e-01,  2.2186e-01,\n",
      "        -5.2696e-03, -6.7074e-01,  6.2589e-03,  8.4126e-02,  7.0765e-02,\n",
      "        -3.0511e-01,  2.6337e-01, -2.6427e-01, -2.4342e-01,  3.3882e-01,\n",
      "        -1.2817e-01, -3.8519e-01,  6.0133e-02, -6.0529e-01,  1.6741e-01,\n",
      "         2.4429e-01, -1.8583e-01,  9.0952e-02,  1.2518e-01, -6.4293e-02,\n",
      "         1.0541e-01, -2.5074e-01,  1.6875e-01, -3.8271e-01, -1.8477e-01,\n",
      "        -1.5526e-01,  1.2449e-01,  1.8115e-02,  3.9182e-01, -2.8208e-01,\n",
      "         3.3479e-01, -6.5976e-01, -3.5705e-01, -3.0068e-01, -1.1029e-01,\n",
      "         3.7138e-02,  1.1719e-01, -1.0335e-01, -2.1815e-01,  1.8466e-01,\n",
      "        -2.3377e-01, -2.3506e-01, -1.3686e-01,  1.1856e-02,  2.5046e-01,\n",
      "         1.3268e-01, -4.0844e-01,  1.4613e-01,  9.9448e-02,  2.5069e-01,\n",
      "         4.0357e-01,  1.6274e-01, -2.5884e-01,  7.3318e-01,  1.7849e-01,\n",
      "         7.4381e-02, -1.9195e-01,  1.8391e-01,  1.9445e-01,  1.7021e-01,\n",
      "         2.0105e-01,  4.5722e-02,  9.4958e-02, -8.7522e-01, -3.8415e-01,\n",
      "        -2.9968e-01,  4.4922e-02,  1.8459e-01, -6.8225e-02, -3.4049e-01,\n",
      "         1.8145e-01, -8.1841e-02, -1.0174e-01, -1.0851e-01,  4.2951e-01,\n",
      "        -3.8733e-04, -6.7446e-01,  5.0773e-01,  3.7039e-02, -4.0751e-01,\n",
      "         1.6869e-01,  3.7426e-01, -2.1520e-01, -2.4295e-01,  1.4627e-01,\n",
      "        -8.5869e-02,  2.3042e-01,  2.3192e-01, -1.6844e-02, -2.0404e-01,\n",
      "        -3.9908e-01,  1.8001e-01, -7.8217e-02, -2.9858e-01,  2.8195e-01,\n",
      "         1.8757e-01, -4.6683e-01, -3.7337e-01,  7.9296e-02, -4.2644e-01,\n",
      "         3.0870e-01, -2.0051e-01,  2.2451e-01, -4.6655e-02,  2.7778e-01,\n",
      "         1.5158e-01, -8.5002e-02, -1.4656e-01, -6.2258e-01, -1.6545e-01,\n",
      "         1.5763e-01, -2.0804e-01, -3.3719e-02,  1.2986e-01, -1.1705e-02,\n",
      "        -6.0622e-01,  6.2464e-02, -1.0090e-01,  1.6309e-01, -1.6747e-01,\n",
      "         1.8802e-01, -3.2927e-01, -3.9430e-02,  1.2525e-01,  1.7864e-01,\n",
      "         2.9660e-01, -6.7018e-02, -7.8953e-02,  2.2936e-01,  1.5073e-01,\n",
      "        -2.1426e-01, -3.3551e-01, -1.3841e-01, -2.4033e-02, -8.3838e-02,\n",
      "        -3.5426e-02, -2.7653e-01, -4.6259e-01, -2.0350e-02, -2.3326e-01,\n",
      "         1.9256e-01, -4.3011e-01,  4.3321e-01,  1.3150e-01,  2.0751e-01,\n",
      "         6.8215e-02,  3.6177e-01, -6.7268e-02,  3.1513e-01,  1.6566e-01,\n",
      "         3.8594e-02, -4.4600e-01, -6.5908e-02, -7.7089e-02,  9.1181e-02,\n",
      "         2.8399e-01, -3.5438e-02, -5.2173e-02,  5.5325e-01, -1.6737e-01,\n",
      "        -3.2540e-01, -2.3955e-01, -8.3436e-01,  1.1542e-01, -5.6210e-01,\n",
      "         1.5342e-01, -1.0471e-02,  5.0375e-02, -1.9617e-01,  4.0373e-01,\n",
      "        -1.8804e-01,  1.3534e-01, -2.8073e-01, -6.9656e-02, -6.3111e-02,\n",
      "        -2.5444e-01, -1.7955e-01, -3.3595e-02,  3.6114e-01,  9.6332e-02,\n",
      "        -1.5104e-01, -2.3620e-01,  3.6841e-01, -3.3466e-01, -1.9588e-01,\n",
      "        -1.6532e-01, -1.8495e-01,  1.6335e-01, -2.8478e-01,  1.2025e-01,\n",
      "        -1.1751e-01,  1.9773e-01,  4.1172e-01,  1.3478e-01, -5.4782e-02,\n",
      "         2.4337e-01,  1.5415e-01, -2.7338e-01, -1.0528e-01,  5.4970e-02,\n",
      "        -3.2508e-03, -1.7459e-01,  1.9315e-01,  4.0828e-01,  6.5243e-02,\n",
      "        -2.5090e-01, -5.6922e-01, -3.8321e-02,  1.2879e-01, -1.5838e-01,\n",
      "         3.9760e-01,  2.1128e-01, -2.0610e-01, -3.0250e-01, -1.5844e-01,\n",
      "        -1.1319e-01, -3.7850e-01,  7.7747e-02,  1.5997e-01, -8.6296e-02,\n",
      "         1.8783e-01,  5.1351e-01, -1.3513e-01, -1.5006e-01, -2.0446e-01,\n",
      "         1.9155e-01, -3.0321e-02, -1.9743e-01,  1.0753e-01,  4.9051e-03,\n",
      "        -2.3202e-02,  3.6127e-01,  3.3237e-01, -2.3160e-02,  3.0360e-01,\n",
      "        -3.2754e-02,  7.4028e-01,  2.6652e-01,  9.6806e-02,  1.6109e-01,\n",
      "        -2.4552e-01, -9.3030e-01,  2.3097e-01,  3.0437e-02, -4.0202e-02,\n",
      "         4.2185e-01, -3.5091e-01,  2.5528e-01, -4.6857e-01,  2.1326e-02,\n",
      "        -2.8008e-02, -2.2352e-01,  1.4190e-01,  4.4868e-01, -2.4669e-01,\n",
      "         2.2302e-01,  2.8914e-01, -2.4587e-01,  3.6371e-01,  2.1969e-01,\n",
      "         3.1237e-01, -1.3250e-02,  1.7517e-01, -1.8715e-01, -5.5325e-01,\n",
      "        -2.2506e-01,  4.0908e-01,  1.6713e-01,  2.5463e-02, -1.4081e-01,\n",
      "        -2.3499e-01, -2.5705e-02,  1.0534e-01, -3.6053e-01, -3.8794e-01,\n",
      "         1.6770e-02, -4.8289e-02, -4.0787e-01,  2.4457e-01,  1.2539e-01,\n",
      "         4.8972e-01,  5.2712e-01, -1.8001e-01, -1.1669e-01,  5.1198e-01,\n",
      "         5.5075e-01,  8.6532e-02, -1.4207e-01,  1.4735e-01,  4.2035e-01])\n"
     ]
    }
   ],
   "source": [
    "print(fasttext['капибара']) "
   ]
  },
  {
   "cell_type": "code",
   "execution_count": 100,
   "metadata": {
    "colab": {
     "base_uri": "https://localhost:8080/"
    },
    "id": "3vWVrTjRn57N",
    "outputId": "e21c53e2-db59-4993-8c80-728e06068cfc"
   },
   "outputs": [
    {
     "data": {
      "text/plain": [
       "483399"
      ]
     },
     "execution_count": 100,
     "metadata": {},
     "output_type": "execute_result"
    }
   ],
   "source": [
    "fasttext.stoi['капибара']"
   ]
  },
  {
   "cell_type": "code",
   "execution_count": 101,
   "metadata": {
    "colab": {
     "base_uri": "https://localhost:8080/"
    },
    "id": "dlnj6V2YmYKR",
    "outputId": "bd1de8a2-7a08-45f8-c0df-6a1537b7a00c"
   },
   "outputs": [
    {
     "data": {
      "text/plain": [
       "torch.Size([1888423, 300])"
      ]
     },
     "execution_count": 101,
     "metadata": {},
     "output_type": "execute_result"
    }
   ],
   "source": [
    "fasttext.vectors.shape"
   ]
  },
  {
   "cell_type": "code",
   "execution_count": 102,
   "metadata": {
    "id": "_uKETgrd0jqq"
   },
   "outputs": [],
   "source": [
    "fasttext_vecs = torch.cat((fasttext.vectors,  torch.zeros((2, 300))))  # add idx for unknown and padding embedd"
   ]
  },
  {
   "cell_type": "code",
   "execution_count": 103,
   "metadata": {
    "id": "vFF6N4uL0vL7"
   },
   "outputs": [],
   "source": [
    "VOCAB_SIZE = fasttext_vecs.shape[0]\n",
    "UNK_IDX = int(fasttext.vectors.shape[0])\n",
    "PAD_IDX = int(fasttext.vectors.shape[0]) + 1\n"
   ]
  },
  {
   "cell_type": "code",
   "execution_count": 104,
   "metadata": {
    "colab": {
     "base_uri": "https://localhost:8080/"
    },
    "id": "_JEOOZ4joKoZ",
    "outputId": "19430703-5b0f-4721-d231-cffdbffa11e2"
   },
   "outputs": [
    {
     "name": "stdout",
     "output_type": "stream",
     "text": [
      "1888423\n",
      "1888424\n"
     ]
    }
   ],
   "source": [
    "print(UNK_IDX)\n",
    "print(PAD_IDX)"
   ]
  },
  {
   "cell_type": "code",
   "execution_count": 105,
   "metadata": {
    "colab": {
     "base_uri": "https://localhost:8080/"
    },
    "id": "JvlZYcCzl_hs",
    "outputId": "d5d2ec57-8924-4951-b67f-89a3e1702f03"
   },
   "outputs": [
    {
     "data": {
      "text/plain": [
       "1888425"
      ]
     },
     "execution_count": 105,
     "metadata": {},
     "output_type": "execute_result"
    }
   ],
   "source": [
    "VOCAB_SIZE"
   ]
  },
  {
   "cell_type": "code",
   "execution_count": 106,
   "metadata": {
    "colab": {
     "base_uri": "https://localhost:8080/"
    },
    "id": "Fag4g4j4bRWZ",
    "outputId": "4cc668c6-a2a9-42c1-cd98-15a54710fd46"
   },
   "outputs": [
    {
     "data": {
      "text/plain": [
       "0    губернатору\n",
       "1    подмосковья\n",
       "2         прочат\n",
       "3         скорую\n",
       "4       отставку\n",
       "5       эксперты\n",
       "6        считают\n",
       "7              ,\n",
       "8            что\n",
       "9        позиции\n",
       "Name: term, dtype: object"
      ]
     },
     "execution_count": 106,
     "metadata": {},
     "output_type": "execute_result"
    }
   ],
   "source": [
    "df['term'] = df['term'].str.lower()\n",
    "df['term'].head(10)"
   ]
  },
  {
   "cell_type": "code",
   "execution_count": 107,
   "metadata": {
    "id": "ycSNeIOQcsFA"
   },
   "outputs": [],
   "source": [
    "id_to_tag = df['tag'].unique()\n",
    "id_to_tag = dict(enumerate(id_to_tag))  # {0: 'O', 1: 'B-GPE', 2: 'B-PERSON', 3: 'I-PERSON',...}\n",
    "tag_to_id = {v: k for k, v in id_to_tag.items()} "
   ]
  },
  {
   "cell_type": "code",
   "execution_count": 108,
   "metadata": {
    "colab": {
     "base_uri": "https://localhost:8080/"
    },
    "id": "LDz8uDudouS4",
    "outputId": "4e90aab2-47bf-4555-fc81-9eb991e3fb80"
   },
   "outputs": [
    {
     "data": {
      "text/plain": [
       "{'O': 0,\n",
       " 'B-GPE': 1,\n",
       " 'B-PERSON': 2,\n",
       " 'I-PERSON': 3,\n",
       " 'B-ORG': 4,\n",
       " 'I-ORG': 5,\n",
       " 'B-DATE': 6,\n",
       " 'I-DATE': 7,\n",
       " 'I-GPE': 8,\n",
       " 'B-QUANTITY': 9,\n",
       " 'I-QUANTITY': 10,\n",
       " 'B-NORP': 11,\n",
       " 'B-LOC': 12,\n",
       " 'I-LOC': 13,\n",
       " 'B-MONEY': 14,\n",
       " 'I-MONEY': 15,\n",
       " 'I-NORP': 16,\n",
       " 'B-PERCENT': 17,\n",
       " 'I-PERCENT': 18,\n",
       " 'B-CARDINAL': 19,\n",
       " 'B-ORDINAL': 20,\n",
       " 'I-CARDINAL': 21,\n",
       " 'B-FAC': 22,\n",
       " 'B-TIME': 23,\n",
       " 'I-TIME': 24,\n",
       " 'B-WORK_OF_ART': 25,\n",
       " 'I-WORK_OF_ART': 26,\n",
       " 'I-FAC': 27,\n",
       " 'B-LANGUAGE': 28,\n",
       " 'I-LANGUAGE': 29,\n",
       " 'B-EVENT': 30,\n",
       " 'I-EVENT': 31,\n",
       " 'B-PRODUCT': 32,\n",
       " 'I-PRODUCT': 33}"
      ]
     },
     "execution_count": 108,
     "metadata": {},
     "output_type": "execute_result"
    }
   ],
   "source": [
    "tag_to_id"
   ]
  },
  {
   "cell_type": "code",
   "execution_count": 109,
   "metadata": {
    "id": "my-nTrSDbgkg"
   },
   "outputs": [],
   "source": [
    "df['tag_id'] = df['tag'].map(tag_to_id)\n",
    "# split to lists\n",
    "X_data = []\n",
    "y_data = []\n",
    "s = []\n",
    "t = []\n",
    "for index, row in df.iterrows():\n",
    "    if row['term'] == '.':\n",
    "        s.append(row['term'])\n",
    "        t.append(row['tag_id'])\n",
    "        X_data.append(s)\n",
    "        y_data.append(t)\n",
    "        s = []\n",
    "        t = []\n",
    "    else:\n",
    "        s.append(row['term'])\n",
    "        t.append(row['tag_id'])"
   ]
  },
  {
   "cell_type": "code",
   "execution_count": 110,
   "metadata": {
    "colab": {
     "base_uri": "https://localhost:8080/"
    },
    "id": "vKd_7cZebFqo",
    "outputId": "5dcbc32f-7298-4819-d120-20de5ad5c44c"
   },
   "outputs": [
    {
     "name": "stdout",
     "output_type": "stream",
     "text": [
      "['губернатору', 'подмосковья', 'прочат', 'скорую', 'отставку', 'эксперты', 'считают', ',', 'что', 'позиции', 'бориса', 'громова', 'пошатнулись', 'из-за', 'недавних', 'проблем', 'с', 'энергоснабжением', 'региона', '.']\n",
      "[0, 1, 0, 0, 0, 0, 0, 0, 0, 0, 2, 3, 0, 0, 0, 0, 0, 0, 0, 0]\n"
     ]
    },
    {
     "data": {
      "text/plain": [
       "211"
      ]
     },
     "execution_count": 110,
     "metadata": {},
     "output_type": "execute_result"
    }
   ],
   "source": [
    "print(X_data[0])\n",
    "print(y_data[0])\n",
    "s = []\n",
    "for x in X_data:\n",
    "  s.append(len(x))\n",
    "s.sort(reverse=True)\n",
    "s[0]  "
   ]
  },
  {
   "cell_type": "markdown",
   "metadata": {
    "id": "5q3AgUG2hk-A"
   },
   "source": [
    "## Train test split"
   ]
  },
  {
   "cell_type": "code",
   "execution_count": 111,
   "metadata": {
    "colab": {
     "base_uri": "https://localhost:8080/"
    },
    "id": "78aMcVNdhVlm",
    "outputId": "6bfe7332-a023-48ec-df7d-2b3c1b711057"
   },
   "outputs": [
    {
     "name": "stdout",
     "output_type": "stream",
     "text": [
      "1173 294\n"
     ]
    }
   ],
   "source": [
    "from sklearn.model_selection import train_test_split\n",
    "X_train, X_test, y_train, y_test = train_test_split(X_data, y_data, train_size=0.8, random_state=SEED)\n",
    "print(len(X_train), len(X_test))"
   ]
  },
  {
   "cell_type": "markdown",
   "metadata": {
    "id": "Mk_iGNqY4XcO"
   },
   "source": [
    "## Trunkate sequences"
   ]
  },
  {
   "cell_type": "code",
   "execution_count": 112,
   "metadata": {
    "id": "6Lf4iwD40I__"
   },
   "outputs": [],
   "source": [
    "def trunkate(txt):\n",
    "    x = txt.copy()\n",
    "    if len(x) >= SEQ_SIZE:\n",
    "        return x[:SEQ_SIZE]\n",
    "    if len(x) < SEQ_SIZE:\n",
    "        while len(x) < SEQ_SIZE:\n",
    "            x.append('<PAD>')\n",
    "        return x[:SEQ_SIZE]"
   ]
  },
  {
   "cell_type": "code",
   "execution_count": 113,
   "metadata": {
    "id": "Fdv9rShe5XF5"
   },
   "outputs": [],
   "source": [
    "def trunkate_y(txt):\n",
    "    x = txt.copy()\n",
    "    if len(x) >= SEQ_SIZE:\n",
    "        return x[:SEQ_SIZE]\n",
    "    if len(x) < SEQ_SIZE:\n",
    "        while len(x) < SEQ_SIZE:\n",
    "            x.append(NUM_CLASSES) # target pad idx = num classes, bc we start from 0 [0,  NUM_CLASSES)\n",
    "        return x[:SEQ_SIZE]"
   ]
  },
  {
   "cell_type": "code",
   "execution_count": 114,
   "metadata": {
    "id": "MXUXYLeD5gPk"
   },
   "outputs": [],
   "source": [
    "y_train_tr = [trunkate_y(txt) for txt in y_train]\n",
    "y_test_tr = [trunkate_y(txt) for txt in y_test]"
   ]
  },
  {
   "cell_type": "code",
   "execution_count": 115,
   "metadata": {
    "id": "NkIistXW21sT"
   },
   "outputs": [],
   "source": [
    "X_train_tr = [trunkate(txt) for txt in X_train]\n",
    "X_test_tr = [trunkate(txt) for txt in X_test]"
   ]
  },
  {
   "cell_type": "code",
   "execution_count": 116,
   "metadata": {
    "id": "295mvLSd2_VW"
   },
   "outputs": [],
   "source": [
    "def seq_to_idx_list(txt):\n",
    "    res = []\n",
    "    for w in txt:\n",
    "        if w == \"<PAD>\":\n",
    "            res.append(PAD_IDX)\n",
    "        elif w not in fasttext.stoi:\n",
    "            res.append(UNK_IDX)\n",
    "        else:\n",
    "            res.append(fasttext.stoi[w]) \n",
    "    return res"
   ]
  },
  {
   "cell_type": "code",
   "execution_count": 117,
   "metadata": {
    "id": "eKVnsUmO3SxK"
   },
   "outputs": [],
   "source": [
    "X_train_idx = [seq_to_idx_list(seq) for seq in X_train_tr]\n",
    "X_test_idx = [seq_to_idx_list(seq) for seq in X_test_tr]"
   ]
  },
  {
   "cell_type": "markdown",
   "metadata": {
    "id": "9PETDJF-4v4Y"
   },
   "source": [
    "## To tensor and data loader"
   ]
  },
  {
   "cell_type": "code",
   "execution_count": 118,
   "metadata": {
    "id": "tZbRfQT64xr3"
   },
   "outputs": [],
   "source": [
    "train_ds = TensorDataset(torch.LongTensor(X_train_idx), torch.LongTensor(y_train_tr))\n",
    "test_ds = TensorDataset(torch.LongTensor(X_test_idx), torch.LongTensor(y_test_tr))"
   ]
  },
  {
   "cell_type": "code",
   "execution_count": 119,
   "metadata": {
    "id": "o_b5SKXV6J7_"
   },
   "outputs": [],
   "source": [
    "train_dl = DataLoader(train_ds, shuffle=False, batch_size=BATCH_SIZE, drop_last=True)\n",
    "test_dl = DataLoader(test_ds, shuffle=False, batch_size=BATCH_SIZE, drop_last=True)"
   ]
  },
  {
   "cell_type": "markdown",
   "metadata": {
    "id": "0TJlSRQy6hSY"
   },
   "source": [
    "# Model"
   ]
  },
  {
   "cell_type": "code",
   "execution_count": 120,
   "metadata": {
    "id": "dhWR90EK5C3O"
   },
   "outputs": [],
   "source": [
    "class NERModel(nn.Module):\n",
    "  \n",
    "    def __init__(self, hidden_dim, output_dim, embedding_dim=300, batch_first=True, drop_prob=0.2, num_layers=2):\n",
    "        super(NERModel, self).__init__()\n",
    "        self.num_layers = num_layers\n",
    "        self.embedding = nn.Embedding.from_pretrained(fasttext_vecs, padding_idx=PAD_IDX)\n",
    "        self.rnn = nn.LSTM(embedding_dim, hidden_dim, num_layers, batch_first=batch_first, dropout=drop_prob)\n",
    "        # self.linear = nn.Linear(hidden_dim, output_dim)\n",
    "        self.linear1 = nn.Linear(hidden_dim, output_dim*2)\n",
    "        self.batch_norm = nn.BatchNorm1d(SEQ_SIZE)\n",
    "        self.linear2 = nn.Linear(output_dim*2, output_dim)\n",
    "        self.hidden_dim = hidden_dim\n",
    "        self.dropout = nn.Dropout(drop_prob)\n",
    "    \n",
    "    def forward(self, x, h, c):\n",
    "        # text = [sent len, batch size]\n",
    "        embedded = self.embedding(x)\n",
    "        # output, hidden = self.rnn(embedded, h)\n",
    "        output, hidden = self.rnn(embedded, (h, c))\n",
    "        output = self.dropout(output)\n",
    "        # output = self.linear(output) # one linear/dense\n",
    "        output = self.linear1(output)\n",
    "        output = self.batch_norm(output)\n",
    "        output = F.relu(output)\n",
    "        output = self.dropout(output)\n",
    "        output = self.linear2(output)\n",
    "        return output, hidden\n",
    "\n",
    "    def init_hidden(self, batch_size):\n",
    "        return torch.zeros(self.num_layers, batch_size, self.hidden_dim), torch.zeros(self.num_layers, batch_size, self.hidden_dim)\n",
    "\n",
    "\n"
   ]
  },
  {
   "cell_type": "markdown",
   "metadata": {
    "id": "gsUT4Hfb-YDN"
   },
   "source": [
    "# Train"
   ]
  },
  {
   "cell_type": "code",
   "execution_count": 121,
   "metadata": {
    "id": "xPtYcAin-ViK"
   },
   "outputs": [],
   "source": [
    "device = torch.device(\"cuda:0\" if torch.cuda.is_available() else \"cpu\")"
   ]
  },
  {
   "cell_type": "code",
   "execution_count": 122,
   "metadata": {
    "colab": {
     "base_uri": "https://localhost:8080/"
    },
    "id": "5t-etH3Q-k7j",
    "outputId": "ed0b5d2a-6c7f-478d-ee7e-28d39f6bea67"
   },
   "outputs": [
    {
     "name": "stderr",
     "output_type": "stream",
     "text": [
      "/usr/local/lib/python3.7/dist-packages/torch/nn/modules/rnn.py:65: UserWarning: dropout option adds dropout after all but last recurrent layer, so non-zero dropout expects num_layers greater than 1, but got dropout=0.2 and num_layers=1\n",
      "  \"num_layers={}\".format(dropout, num_layers))\n"
     ]
    },
    {
     "name": "stdout",
     "output_type": "stream",
     "text": [
      "NERModel(\n",
      "  (embedding): Embedding(1888425, 300, padding_idx=1888424)\n",
      "  (rnn): LSTM(300, 128, batch_first=True, dropout=0.2)\n",
      "  (linear1): Linear(in_features=128, out_features=68, bias=True)\n",
      "  (batch_norm): BatchNorm1d(45, eps=1e-05, momentum=0.1, affine=True, track_running_stats=True)\n",
      "  (linear2): Linear(in_features=68, out_features=34, bias=True)\n",
      "  (dropout): Dropout(p=0.2, inplace=False)\n",
      ")\n"
     ]
    }
   ],
   "source": [
    "model = NERModel(hidden_dim=128, output_dim=NUM_CLASSES, num_layers=1) #bs 8, hidden_dim 128, 1 layer, 5 epoch, dropout 0.2\n",
    "print(model)\n",
    "model = model.to(device)"
   ]
  },
  {
   "cell_type": "code",
   "execution_count": 123,
   "metadata": {
    "id": "DSOZLt8VFqy_"
   },
   "outputs": [],
   "source": [
    "criterion = nn.CrossEntropyLoss(ignore_index=NUM_CLASSES)\n",
    "optimizer = torch.optim.Adam(model.parameters(), lr=0.001)"
   ]
  },
  {
   "cell_type": "code",
   "execution_count": 124,
   "metadata": {
    "colab": {
     "base_uri": "https://localhost:8080/"
    },
    "id": "n8lQ8Zp-AIdq",
    "outputId": "f50f360c-a589-40e0-b946-fec9d83f447a"
   },
   "outputs": [
    {
     "name": "stdout",
     "output_type": "stream",
     "text": [
      "Epoch 1 val loss ----- 0.536096186687549\n",
      "Epoch 2 val loss ----- 0.3468133815460735\n",
      "Epoch 3 val loss ----- 0.29111598432064056\n",
      "Epoch 4 val loss ----- 0.268701015247239\n",
      "Epoch 5 val loss ----- 0.2588094046546353\n",
      "Epoch 6 val loss ----- 0.2614656562606494\n",
      "Epoch 7 val loss ----- 0.25900453473958707\n",
      "Epoch 8 val loss ----- 0.2689796667546034\n",
      "Epoch 9 val loss ----- 0.27580264759146506\n",
      "Epoch 10 val loss ----- 0.2856797598716285\n"
     ]
    }
   ],
   "source": [
    "dataloaders = {'train': train_dl,\n",
    "               'train_val': train_dl,\n",
    "               'val': test_dl}\n",
    "\n",
    "all_tr_loss = np.zeros(EPOCHS)\n",
    "all_val_loss = np.zeros(EPOCHS)\n",
    "best_loss_val = 99\n",
    "for e in range(EPOCHS):\n",
    "    for mode in ['train','train_val', 'val']:\n",
    "        epoch_loss = {'train': 0.0, 'train_val': 0.0, 'val': 0.0}\n",
    "        if mode == 'train':\n",
    "            model.train()\n",
    "        else:\n",
    "            model.eval()\n",
    "        # h0 =  model.init_hidden(BATCH_SIZE)\n",
    "        h, c =  model.init_hidden(BATCH_SIZE)\n",
    "        h = h.to(device)\n",
    "        c = c.to(device)\n",
    "\n",
    "        b_losses = []  # batch losses\n",
    "        for batch_idx, batch in enumerate(dataloaders[mode]):\n",
    "            input_ = batch[0].to(device)\n",
    "            target = batch[1].to(device)\n",
    "\n",
    "            optimizer.zero_grad()\n",
    "            with torch.set_grad_enabled(mode == 'train'):\n",
    "                out, hidden = model(input_, h, c)\n",
    "                out = out.contiguous().view(-1, out.size(2))  # shape (BATCH_SIZE * SEQ_SIZE, NUM_CLASSES)\n",
    "                target = target.contiguous().view(-1)  # shape (BATCH_SIZE * SEQ_SIZE)\n",
    "                loss = criterion(out, target)\n",
    "                if mode == 'train':\n",
    "                    loss.backward()\n",
    "                    optimizer.step()\n",
    "            b_losses.append(loss.item())\n",
    "        epoch_loss[mode] = np.mean(b_losses)\n",
    "        # if epoch_loss['val'] < best_loss_val:\n",
    "        #   best_loss_val = epoch_loss['val']\n",
    "        #   torch.save(model.state_dict(), '/content/drive/MyDrive/NLP/NER/lstm_best.pt')\n",
    "    \n",
    "    print(f\"Epoch {e+1}\", f\"val loss ----- {epoch_loss['val']}\")\n",
    "    all_tr_loss[e] = epoch_loss['train_val']\n",
    "    all_val_loss[e] = epoch_loss['val']"
   ]
  },
  {
   "cell_type": "code",
   "execution_count": 125,
   "metadata": {
    "colab": {
     "base_uri": "https://localhost:8080/",
     "height": 265
    },
    "id": "anCDYZkSDA9X",
    "outputId": "51092429-b16b-4896-f84d-2b78dae2bd51"
   },
   "outputs": [
    {
     "data": {
      "image/png": "[encoded data removed]",
      "text/plain": [
       "<Figure size 432x288 with 1 Axes>"
      ]
     },
     "metadata": {
      "needs_background": "light"
     },
     "output_type": "display_data"
    }
   ],
   "source": [
    "plt.plot(all_val_loss)\n",
    "plt.show()"
   ]
  },
  {
   "cell_type": "code",
   "execution_count": 126,
   "metadata": {
    "id": "7xx5CMD26n99"
   },
   "outputs": [],
   "source": [
    "# model_best = NERModel(hidden_dim=128, output_dim=NUM_CLASSES, num_layers=1)\n",
    "# model_best.load_state_dict(torch.load('/content/drive/MyDrive/NLP/NER/lstm_best.pt'))\n",
    "# model_best = model_best.to(device)"
   ]
  },
  {
   "cell_type": "code",
   "execution_count": 127,
   "metadata": {
    "id": "B2_zRGMVI5H_"
   },
   "outputs": [],
   "source": [
    "def get_predict(txt_list: list, model):\n",
    "    x = [txt_list]\n",
    "    x = [trunkate(seq) for seq in x]\n",
    "    x = [seq_to_idx_list(seq) for seq in x]\n",
    "    x = [x[0] for i in range(BATCH_SIZE)]\n",
    "    x = torch.LongTensor(x)\n",
    "\n",
    "    model.eval()\n",
    "    h, c =  model.init_hidden(BATCH_SIZE)\n",
    "    h = h.to(device)\n",
    "    c = c.to(device)\n",
    "    input = x.to(device)\n",
    "    with torch.set_grad_enabled(False): # we dont need grad on inference\n",
    "        out, hidden = model(input, h, c)\n",
    "    out = out.cpu()[0]\n",
    "    sf = nn.Softmax(1)\n",
    "    out = sf(out)\n",
    "    out = torch.argmax(out, dim=1).numpy().tolist()\n",
    "    out = out[:len(txt_list)]\n",
    "    assert len(out) == len(txt_list)\n",
    "    out = [id_to_tag[s] for s in out]\n",
    "    out = pd.DataFrame(data=[txt_list, out], index=['term', 'tag']).transpose()\n",
    "    return out"
   ]
  },
  {
   "cell_type": "code",
   "execution_count": 128,
   "metadata": {
    "colab": {
     "base_uri": "https://localhost:8080/",
     "height": 757
    },
    "id": "CrkrocbyNqFE",
    "outputId": "54b997cd-701f-48d8-b6a9-a960cffbe585"
   },
   "outputs": [
    {
     "name": "stdout",
     "output_type": "stream",
     "text": [
      "[2, 0, 0, 0, 0, 0, 0, 1, 2, 3, 0, 6, 7, 7, 0, 0, 0, 0, 0, 0, 0, 0]\n"
     ]
    },
    {
     "data": {
      "text/html": [
       "\n",
       "  <div id=\"df-21702065-216b-48b1-acc5-6af18ce763f0\">\n",
       "    <div class=\"colab-df-container\">\n",
       "      <div>\n",
       "<style scoped>\n",
       "    .dataframe tbody tr th:only-of-type {\n",
       "        vertical-align: middle;\n",
       "    }\n",
       "\n",
       "    .dataframe tbody tr th {\n",
       "        vertical-align: top;\n",
       "    }\n",
       "\n",
       "    .dataframe thead th {\n",
       "        text-align: right;\n",
       "    }\n",
       "</style>\n",
       "<table border=\"1\" class=\"dataframe\">\n",
       "  <thead>\n",
       "    <tr style=\"text-align: right;\">\n",
       "      <th></th>\n",
       "      <th>term</th>\n",
       "      <th>tag</th>\n",
       "    </tr>\n",
       "  </thead>\n",
       "  <tbody>\n",
       "    <tr>\n",
       "      <th>0</th>\n",
       "      <td>кан</td>\n",
       "      <td>B-PERSON</td>\n",
       "    </tr>\n",
       "    <tr>\n",
       "      <th>1</th>\n",
       "      <td>также</td>\n",
       "      <td>O</td>\n",
       "    </tr>\n",
       "    <tr>\n",
       "      <th>2</th>\n",
       "      <td>осудил</td>\n",
       "      <td>O</td>\n",
       "    </tr>\n",
       "    <tr>\n",
       "      <th>3</th>\n",
       "      <td>визит</td>\n",
       "      <td>O</td>\n",
       "    </tr>\n",
       "    <tr>\n",
       "      <th>4</th>\n",
       "      <td>на</td>\n",
       "      <td>O</td>\n",
       "    </tr>\n",
       "    <tr>\n",
       "      <th>5</th>\n",
       "      <td>острова</td>\n",
       "      <td>B-LOC</td>\n",
       "    </tr>\n",
       "    <tr>\n",
       "      <th>6</th>\n",
       "      <td>президента</td>\n",
       "      <td>O</td>\n",
       "    </tr>\n",
       "    <tr>\n",
       "      <th>7</th>\n",
       "      <td>россии</td>\n",
       "      <td>B-GPE</td>\n",
       "    </tr>\n",
       "    <tr>\n",
       "      <th>8</th>\n",
       "      <td>дмитрия</td>\n",
       "      <td>B-PERSON</td>\n",
       "    </tr>\n",
       "    <tr>\n",
       "      <th>9</th>\n",
       "      <td>медведева</td>\n",
       "      <td>I-PERSON</td>\n",
       "    </tr>\n",
       "    <tr>\n",
       "      <th>10</th>\n",
       "      <td>в</td>\n",
       "      <td>O</td>\n",
       "    </tr>\n",
       "    <tr>\n",
       "      <th>11</th>\n",
       "      <td>ноябре</td>\n",
       "      <td>B-DATE</td>\n",
       "    </tr>\n",
       "    <tr>\n",
       "      <th>12</th>\n",
       "      <td>прошлого</td>\n",
       "      <td>I-DATE</td>\n",
       "    </tr>\n",
       "    <tr>\n",
       "      <th>13</th>\n",
       "      <td>года</td>\n",
       "      <td>I-DATE</td>\n",
       "    </tr>\n",
       "    <tr>\n",
       "      <th>14</th>\n",
       "      <td>,</td>\n",
       "      <td>O</td>\n",
       "    </tr>\n",
       "    <tr>\n",
       "      <th>15</th>\n",
       "      <td>назвав</td>\n",
       "      <td>O</td>\n",
       "    </tr>\n",
       "    <tr>\n",
       "      <th>16</th>\n",
       "      <td>его</td>\n",
       "      <td>O</td>\n",
       "    </tr>\n",
       "    <tr>\n",
       "      <th>17</th>\n",
       "      <td>«</td>\n",
       "      <td>O</td>\n",
       "    </tr>\n",
       "    <tr>\n",
       "      <th>18</th>\n",
       "      <td>непростительным</td>\n",
       "      <td>O</td>\n",
       "    </tr>\n",
       "    <tr>\n",
       "      <th>19</th>\n",
       "      <td>оскорблением</td>\n",
       "      <td>O</td>\n",
       "    </tr>\n",
       "    <tr>\n",
       "      <th>20</th>\n",
       "      <td>»</td>\n",
       "      <td>O</td>\n",
       "    </tr>\n",
       "    <tr>\n",
       "      <th>21</th>\n",
       "      <td>.</td>\n",
       "      <td>O</td>\n",
       "    </tr>\n",
       "  </tbody>\n",
       "</table>\n",
       "</div>\n",
       "      <button class=\"colab-df-convert\" onclick=\"convertToInteractive('df-21702065-216b-48b1-acc5-6af18ce763f0')\"\n",
       "              title=\"Convert this dataframe to an interactive table.\"\n",
       "              style=\"display:none;\">\n",
       "        \n",
       "  <svg xmlns=\"http://www.w3.org/2000/svg\" height=\"24px\"viewBox=\"0 0 24 24\"\n",
       "       width=\"24px\">\n",
       "    <path d=\"M0 0h24v24H0V0z\" fill=\"none\"/>\n",
       "    <path d=\"M18.56 5.44l.94 2.06.94-2.06 2.06-.94-2.06-.94-.94-2.06-.94 2.06-2.06.94zm-11 1L8.5 8.5l.94-2.06 2.06-.94-2.06-.94L8.5 2.5l-.94 2.06-2.06.94zm10 10l.94 2.06.94-2.06 2.06-.94-2.06-.94-.94-2.06-.94 2.06-2.06.94z\"/><path d=\"M17.41 7.96l-1.37-1.37c-.4-.4-.92-.59-1.43-.59-.52 0-1.04.2-1.43.59L10.3 9.45l-7.72 7.72c-.78.78-.78 2.05 0 2.83L4 21.41c.39.39.9.59 1.41.59.51 0 1.02-.2 1.41-.59l7.78-7.78 2.81-2.81c.8-.78.8-2.07 0-2.86zM5.41 20L4 18.59l7.72-7.72 1.47 1.35L5.41 20z\"/>\n",
       "  </svg>\n",
       "      </button>\n",
       "      \n",
       "  <style>\n",
       "    .colab-df-container {\n",
       "      display:flex;\n",
       "      flex-wrap:wrap;\n",
       "      gap: 12px;\n",
       "    }\n",
       "\n",
       "    .colab-df-convert {\n",
       "      background-color: #E8F0FE;\n",
       "      border: none;\n",
       "      border-radius: 50%;\n",
       "      cursor: pointer;\n",
       "      display: none;\n",
       "      fill: #1967D2;\n",
       "      height: 32px;\n",
       "      padding: 0 0 0 0;\n",
       "      width: 32px;\n",
       "    }\n",
       "\n",
       "    .colab-df-convert:hover {\n",
       "      background-color: #E2EBFA;\n",
       "      box-shadow: 0px 1px 2px rgba(60, 64, 67, 0.3), 0px 1px 3px 1px rgba(60, 64, 67, 0.15);\n",
       "      fill: #174EA6;\n",
       "    }\n",
       "\n",
       "    [theme=dark] .colab-df-convert {\n",
       "      background-color: #3B4455;\n",
       "      fill: #D2E3FC;\n",
       "    }\n",
       "\n",
       "    [theme=dark] .colab-df-convert:hover {\n",
       "      background-color: #434B5C;\n",
       "      box-shadow: 0px 1px 3px 1px rgba(0, 0, 0, 0.15);\n",
       "      filter: drop-shadow(0px 1px 2px rgba(0, 0, 0, 0.3));\n",
       "      fill: #FFFFFF;\n",
       "    }\n",
       "  </style>\n",
       "\n",
       "      <script>\n",
       "        const buttonEl =\n",
       "          document.querySelector('#df-21702065-216b-48b1-acc5-6af18ce763f0 button.colab-df-convert');\n",
       "        buttonEl.style.display =\n",
       "          google.colab.kernel.accessAllowed ? 'block' : 'none';\n",
       "\n",
       "        async function convertToInteractive(key) {\n",
       "          const element = document.querySelector('#df-21702065-216b-48b1-acc5-6af18ce763f0');\n",
       "          const dataTable =\n",
       "            await google.colab.kernel.invokeFunction('convertToInteractive',\n",
       "                                                     [key], {});\n",
       "          if (!dataTable) return;\n",
       "\n",
       "          const docLinkHtml = 'Like what you see? Visit the ' +\n",
       "            '<a target=\"_blank\" href=https://colab.research.google.com/notebooks/data_table.ipynb>data table notebook</a>'\n",
       "            + ' to learn more about interactive tables.';\n",
       "          element.innerHTML = '';\n",
       "          dataTable['output_type'] = 'display_data';\n",
       "          await google.colab.output.renderOutput(dataTable, element);\n",
       "          const docLink = document.createElement('div');\n",
       "          docLink.innerHTML = docLinkHtml;\n",
       "          element.appendChild(docLink);\n",
       "        }\n",
       "      </script>\n",
       "    </div>\n",
       "  </div>\n",
       "  "
      ],
      "text/plain": [
       "               term       tag\n",
       "0               кан  B-PERSON\n",
       "1             также         O\n",
       "2            осудил         O\n",
       "3             визит         O\n",
       "4                на         O\n",
       "5           острова     B-LOC\n",
       "6        президента         O\n",
       "7            россии     B-GPE\n",
       "8           дмитрия  B-PERSON\n",
       "9         медведева  I-PERSON\n",
       "10                в         O\n",
       "11           ноябре    B-DATE\n",
       "12         прошлого    I-DATE\n",
       "13             года    I-DATE\n",
       "14                ,         O\n",
       "15           назвав         O\n",
       "16              его         O\n",
       "17                «         O\n",
       "18  непростительным         O\n",
       "19     оскорблением         O\n",
       "20                »         O\n",
       "21                .         O"
      ]
     },
     "execution_count": 128,
     "metadata": {},
     "output_type": "execute_result"
    }
   ],
   "source": [
    "test = get_predict(X_test[12], model)\n",
    "print(y_test[12])\n",
    "test"
   ]
  },
  {
   "cell_type": "code",
   "execution_count": 129,
   "metadata": {
    "id": "yulIyTlBT2Lg"
   },
   "outputs": [],
   "source": [
    "def ner_inference(model):\n",
    "  while(True):\n",
    "    test_text = input(\"Please enter example input: \")\n",
    "    if test_text == 'quit':\n",
    "      break\n",
    "    test_text = test_text.lower().split(' ')\n",
    "    test = get_predict(test_text, model)\n",
    "    display(test)"
   ]
  },
  {
   "cell_type": "code",
   "execution_count": 131,
   "metadata": {
    "colab": {
     "base_uri": "https://localhost:8080/",
     "height": 763
    },
    "id": "2y6X9iEozowX",
    "outputId": "14a7690a-0795-4e12-b453-201e420714d1"
   },
   "outputs": [
    {
     "name": "stdout",
     "output_type": "stream",
     "text": [
      "Please enter example input: Пирогов на заседании ООН объявил о том, что он наелся пирогов\n"
     ]
    },
    {
     "data": {
      "text/html": [
       "\n",
       "  <div id=\"df-72d75013-5612-4ddc-854e-39dca18562ed\">\n",
       "    <div class=\"colab-df-container\">\n",
       "      <div>\n",
       "<style scoped>\n",
       "    .dataframe tbody tr th:only-of-type {\n",
       "        vertical-align: middle;\n",
       "    }\n",
       "\n",
       "    .dataframe tbody tr th {\n",
       "        vertical-align: top;\n",
       "    }\n",
       "\n",
       "    .dataframe thead th {\n",
       "        text-align: right;\n",
       "    }\n",
       "</style>\n",
       "<table border=\"1\" class=\"dataframe\">\n",
       "  <thead>\n",
       "    <tr style=\"text-align: right;\">\n",
       "      <th></th>\n",
       "      <th>term</th>\n",
       "      <th>tag</th>\n",
       "    </tr>\n",
       "  </thead>\n",
       "  <tbody>\n",
       "    <tr>\n",
       "      <th>0</th>\n",
       "      <td>пирогов</td>\n",
       "      <td>B-PERSON</td>\n",
       "    </tr>\n",
       "    <tr>\n",
       "      <th>1</th>\n",
       "      <td>на</td>\n",
       "      <td>O</td>\n",
       "    </tr>\n",
       "    <tr>\n",
       "      <th>2</th>\n",
       "      <td>заседании</td>\n",
       "      <td>O</td>\n",
       "    </tr>\n",
       "    <tr>\n",
       "      <th>3</th>\n",
       "      <td>оон</td>\n",
       "      <td>B-ORG</td>\n",
       "    </tr>\n",
       "    <tr>\n",
       "      <th>4</th>\n",
       "      <td>объявил</td>\n",
       "      <td>O</td>\n",
       "    </tr>\n",
       "    <tr>\n",
       "      <th>5</th>\n",
       "      <td>о</td>\n",
       "      <td>O</td>\n",
       "    </tr>\n",
       "    <tr>\n",
       "      <th>6</th>\n",
       "      <td>том,</td>\n",
       "      <td>O</td>\n",
       "    </tr>\n",
       "    <tr>\n",
       "      <th>7</th>\n",
       "      <td>что</td>\n",
       "      <td>O</td>\n",
       "    </tr>\n",
       "    <tr>\n",
       "      <th>8</th>\n",
       "      <td>он</td>\n",
       "      <td>O</td>\n",
       "    </tr>\n",
       "    <tr>\n",
       "      <th>9</th>\n",
       "      <td>наелся</td>\n",
       "      <td>O</td>\n",
       "    </tr>\n",
       "    <tr>\n",
       "      <th>10</th>\n",
       "      <td>пирогов</td>\n",
       "      <td>O</td>\n",
       "    </tr>\n",
       "  </tbody>\n",
       "</table>\n",
       "</div>\n",
       "      <button class=\"colab-df-convert\" onclick=\"convertToInteractive('df-72d75013-5612-4ddc-854e-39dca18562ed')\"\n",
       "              title=\"Convert this dataframe to an interactive table.\"\n",
       "              style=\"display:none;\">\n",
       "        \n",
       "  <svg xmlns=\"http://www.w3.org/2000/svg\" height=\"24px\"viewBox=\"0 0 24 24\"\n",
       "       width=\"24px\">\n",
       "    <path d=\"M0 0h24v24H0V0z\" fill=\"none\"/>\n",
       "    <path d=\"M18.56 5.44l.94 2.06.94-2.06 2.06-.94-2.06-.94-.94-2.06-.94 2.06-2.06.94zm-11 1L8.5 8.5l.94-2.06 2.06-.94-2.06-.94L8.5 2.5l-.94 2.06-2.06.94zm10 10l.94 2.06.94-2.06 2.06-.94-2.06-.94-.94-2.06-.94 2.06-2.06.94z\"/><path d=\"M17.41 7.96l-1.37-1.37c-.4-.4-.92-.59-1.43-.59-.52 0-1.04.2-1.43.59L10.3 9.45l-7.72 7.72c-.78.78-.78 2.05 0 2.83L4 21.41c.39.39.9.59 1.41.59.51 0 1.02-.2 1.41-.59l7.78-7.78 2.81-2.81c.8-.78.8-2.07 0-2.86zM5.41 20L4 18.59l7.72-7.72 1.47 1.35L5.41 20z\"/>\n",
       "  </svg>\n",
       "      </button>\n",
       "      \n",
       "  <style>\n",
       "    .colab-df-container {\n",
       "      display:flex;\n",
       "      flex-wrap:wrap;\n",
       "      gap: 12px;\n",
       "    }\n",
       "\n",
       "    .colab-df-convert {\n",
       "      background-color: #E8F0FE;\n",
       "      border: none;\n",
       "      border-radius: 50%;\n",
       "      cursor: pointer;\n",
       "      display: none;\n",
       "      fill: #1967D2;\n",
       "      height: 32px;\n",
       "      padding: 0 0 0 0;\n",
       "      width: 32px;\n",
       "    }\n",
       "\n",
       "    .colab-df-convert:hover {\n",
       "      background-color: #E2EBFA;\n",
       "      box-shadow: 0px 1px 2px rgba(60, 64, 67, 0.3), 0px 1px 3px 1px rgba(60, 64, 67, 0.15);\n",
       "      fill: #174EA6;\n",
       "    }\n",
       "\n",
       "    [theme=dark] .colab-df-convert {\n",
       "      background-color: #3B4455;\n",
       "      fill: #D2E3FC;\n",
       "    }\n",
       "\n",
       "    [theme=dark] .colab-df-convert:hover {\n",
       "      background-color: #434B5C;\n",
       "      box-shadow: 0px 1px 3px 1px rgba(0, 0, 0, 0.15);\n",
       "      filter: drop-shadow(0px 1px 2px rgba(0, 0, 0, 0.3));\n",
       "      fill: #FFFFFF;\n",
       "    }\n",
       "  </style>\n",
       "\n",
       "      <script>\n",
       "        const buttonEl =\n",
       "          document.querySelector('#df-72d75013-5612-4ddc-854e-39dca18562ed button.colab-df-convert');\n",
       "        buttonEl.style.display =\n",
       "          google.colab.kernel.accessAllowed ? 'block' : 'none';\n",
       "\n",
       "        async function convertToInteractive(key) {\n",
       "          const element = document.querySelector('#df-72d75013-5612-4ddc-854e-39dca18562ed');\n",
       "          const dataTable =\n",
       "            await google.colab.kernel.invokeFunction('convertToInteractive',\n",
       "                                                     [key], {});\n",
       "          if (!dataTable) return;\n",
       "\n",
       "          const docLinkHtml = 'Like what you see? Visit the ' +\n",
       "            '<a target=\"_blank\" href=https://colab.research.google.com/notebooks/data_table.ipynb>data table notebook</a>'\n",
       "            + ' to learn more about interactive tables.';\n",
       "          element.innerHTML = '';\n",
       "          dataTable['output_type'] = 'display_data';\n",
       "          await google.colab.output.renderOutput(dataTable, element);\n",
       "          const docLink = document.createElement('div');\n",
       "          docLink.innerHTML = docLinkHtml;\n",
       "          element.appendChild(docLink);\n",
       "        }\n",
       "      </script>\n",
       "    </div>\n",
       "  </div>\n",
       "  "
      ],
      "text/plain": [
       "         term       tag\n",
       "0     пирогов  B-PERSON\n",
       "1          на         O\n",
       "2   заседании         O\n",
       "3         оон     B-ORG\n",
       "4     объявил         O\n",
       "5           о         O\n",
       "6        том,         O\n",
       "7         что         O\n",
       "8          он         O\n",
       "9      наелся         O\n",
       "10    пирогов         O"
      ]
     },
     "metadata": {},
     "output_type": "display_data"
    },
    {
     "name": "stdout",
     "output_type": "stream",
     "text": [
      "Please enter example input: Мэр Новосибирской Области Анатолий Локоть укусил себя за локоть\n"
     ]
    },
    {
     "data": {
      "text/html": [
       "\n",
       "  <div id=\"df-d2c3c6aa-7ecf-4665-9f51-f8951dde4db9\">\n",
       "    <div class=\"colab-df-container\">\n",
       "      <div>\n",
       "<style scoped>\n",
       "    .dataframe tbody tr th:only-of-type {\n",
       "        vertical-align: middle;\n",
       "    }\n",
       "\n",
       "    .dataframe tbody tr th {\n",
       "        vertical-align: top;\n",
       "    }\n",
       "\n",
       "    .dataframe thead th {\n",
       "        text-align: right;\n",
       "    }\n",
       "</style>\n",
       "<table border=\"1\" class=\"dataframe\">\n",
       "  <thead>\n",
       "    <tr style=\"text-align: right;\">\n",
       "      <th></th>\n",
       "      <th>term</th>\n",
       "      <th>tag</th>\n",
       "    </tr>\n",
       "  </thead>\n",
       "  <tbody>\n",
       "    <tr>\n",
       "      <th>0</th>\n",
       "      <td>мэр</td>\n",
       "      <td>O</td>\n",
       "    </tr>\n",
       "    <tr>\n",
       "      <th>1</th>\n",
       "      <td>новосибирской</td>\n",
       "      <td>B-GPE</td>\n",
       "    </tr>\n",
       "    <tr>\n",
       "      <th>2</th>\n",
       "      <td>области</td>\n",
       "      <td>I-GPE</td>\n",
       "    </tr>\n",
       "    <tr>\n",
       "      <th>3</th>\n",
       "      <td>анатолий</td>\n",
       "      <td>B-PERSON</td>\n",
       "    </tr>\n",
       "    <tr>\n",
       "      <th>4</th>\n",
       "      <td>локоть</td>\n",
       "      <td>I-PERSON</td>\n",
       "    </tr>\n",
       "    <tr>\n",
       "      <th>5</th>\n",
       "      <td>укусил</td>\n",
       "      <td>O</td>\n",
       "    </tr>\n",
       "    <tr>\n",
       "      <th>6</th>\n",
       "      <td>себя</td>\n",
       "      <td>O</td>\n",
       "    </tr>\n",
       "    <tr>\n",
       "      <th>7</th>\n",
       "      <td>за</td>\n",
       "      <td>O</td>\n",
       "    </tr>\n",
       "    <tr>\n",
       "      <th>8</th>\n",
       "      <td>локоть</td>\n",
       "      <td>O</td>\n",
       "    </tr>\n",
       "  </tbody>\n",
       "</table>\n",
       "</div>\n",
       "      <button class=\"colab-df-convert\" onclick=\"convertToInteractive('df-d2c3c6aa-7ecf-4665-9f51-f8951dde4db9')\"\n",
       "              title=\"Convert this dataframe to an interactive table.\"\n",
       "              style=\"display:none;\">\n",
       "        \n",
       "  <svg xmlns=\"http://www.w3.org/2000/svg\" height=\"24px\"viewBox=\"0 0 24 24\"\n",
       "       width=\"24px\">\n",
       "    <path d=\"M0 0h24v24H0V0z\" fill=\"none\"/>\n",
       "    <path d=\"M18.56 5.44l.94 2.06.94-2.06 2.06-.94-2.06-.94-.94-2.06-.94 2.06-2.06.94zm-11 1L8.5 8.5l.94-2.06 2.06-.94-2.06-.94L8.5 2.5l-.94 2.06-2.06.94zm10 10l.94 2.06.94-2.06 2.06-.94-2.06-.94-.94-2.06-.94 2.06-2.06.94z\"/><path d=\"M17.41 7.96l-1.37-1.37c-.4-.4-.92-.59-1.43-.59-.52 0-1.04.2-1.43.59L10.3 9.45l-7.72 7.72c-.78.78-.78 2.05 0 2.83L4 21.41c.39.39.9.59 1.41.59.51 0 1.02-.2 1.41-.59l7.78-7.78 2.81-2.81c.8-.78.8-2.07 0-2.86zM5.41 20L4 18.59l7.72-7.72 1.47 1.35L5.41 20z\"/>\n",
       "  </svg>\n",
       "      </button>\n",
       "      \n",
       "  <style>\n",
       "    .colab-df-container {\n",
       "      display:flex;\n",
       "      flex-wrap:wrap;\n",
       "      gap: 12px;\n",
       "    }\n",
       "\n",
       "    .colab-df-convert {\n",
       "      background-color: #E8F0FE;\n",
       "      border: none;\n",
       "      border-radius: 50%;\n",
       "      cursor: pointer;\n",
       "      display: none;\n",
       "      fill: #1967D2;\n",
       "      height: 32px;\n",
       "      padding: 0 0 0 0;\n",
       "      width: 32px;\n",
       "    }\n",
       "\n",
       "    .colab-df-convert:hover {\n",
       "      background-color: #E2EBFA;\n",
       "      box-shadow: 0px 1px 2px rgba(60, 64, 67, 0.3), 0px 1px 3px 1px rgba(60, 64, 67, 0.15);\n",
       "      fill: #174EA6;\n",
       "    }\n",
       "\n",
       "    [theme=dark] .colab-df-convert {\n",
       "      background-color: #3B4455;\n",
       "      fill: #D2E3FC;\n",
       "    }\n",
       "\n",
       "    [theme=dark] .colab-df-convert:hover {\n",
       "      background-color: #434B5C;\n",
       "      box-shadow: 0px 1px 3px 1px rgba(0, 0, 0, 0.15);\n",
       "      filter: drop-shadow(0px 1px 2px rgba(0, 0, 0, 0.3));\n",
       "      fill: #FFFFFF;\n",
       "    }\n",
       "  </style>\n",
       "\n",
       "      <script>\n",
       "        const buttonEl =\n",
       "          document.querySelector('#df-d2c3c6aa-7ecf-4665-9f51-f8951dde4db9 button.colab-df-convert');\n",
       "        buttonEl.style.display =\n",
       "          google.colab.kernel.accessAllowed ? 'block' : 'none';\n",
       "\n",
       "        async function convertToInteractive(key) {\n",
       "          const element = document.querySelector('#df-d2c3c6aa-7ecf-4665-9f51-f8951dde4db9');\n",
       "          const dataTable =\n",
       "            await google.colab.kernel.invokeFunction('convertToInteractive',\n",
       "                                                     [key], {});\n",
       "          if (!dataTable) return;\n",
       "\n",
       "          const docLinkHtml = 'Like what you see? Visit the ' +\n",
       "            '<a target=\"_blank\" href=https://colab.research.google.com/notebooks/data_table.ipynb>data table notebook</a>'\n",
       "            + ' to learn more about interactive tables.';\n",
       "          element.innerHTML = '';\n",
       "          dataTable['output_type'] = 'display_data';\n",
       "          await google.colab.output.renderOutput(dataTable, element);\n",
       "          const docLink = document.createElement('div');\n",
       "          docLink.innerHTML = docLinkHtml;\n",
       "          element.appendChild(docLink);\n",
       "        }\n",
       "      </script>\n",
       "    </div>\n",
       "  </div>\n",
       "  "
      ],
      "text/plain": [
       "            term       tag\n",
       "0            мэр         O\n",
       "1  новосибирской     B-GPE\n",
       "2        области     I-GPE\n",
       "3       анатолий  B-PERSON\n",
       "4         локоть  I-PERSON\n",
       "5         укусил         O\n",
       "6           себя         O\n",
       "7             за         O\n",
       "8         локоть         O"
      ]
     },
     "metadata": {},
     "output_type": "display_data"
    },
    {
     "name": "stdout",
     "output_type": "stream",
     "text": [
      "Please enter example input: quit\n"
     ]
    }
   ],
   "source": [
    "ner_inference(model) "
   ]
  }
 ],
 "metadata": {
  "accelerator": "GPU",
  "colab": {
   "provenance": []
  },
  "gpuClass": "standard",
  "kernelspec": {
   "display_name": "Python 3 (ipykernel)",
   "language": "python",
   "name": "python3"
  },
  "language_info": {
   "codemirror_mode": {
    "name": "ipython",
    "version": 3
   },
   "file_extension": ".py",
   "mimetype": "text/x-python",
   "name": "python",
   "nbconvert_exporter": "python",
   "pygments_lexer": "ipython3",
   "version": "3.8.10"
  }
 },
 "nbformat": 4,
 "nbformat_minor": 1
}
