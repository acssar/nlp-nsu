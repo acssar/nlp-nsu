{
 "cells": [
  {
   "cell_type": "code",
   "execution_count": null,
   "metadata": {
    "colab": {
     "base_uri": "https://localhost:8080/"
    },
    "id": "10sDNPJMTY73",
    "outputId": "09e23606-1300-4f6b-d145-804d4dfd675e"
   },
   "outputs": [],
   "source": [
    "!python -m spacy download ru_core_news_sm"
   ]
  },
  {
   "cell_type": "code",
   "execution_count": null,
   "metadata": {
    "colab": {
     "base_uri": "https://localhost:8080/"
    },
    "id": "KhgsRb0ELNWN",
    "outputId": "9d423b2a-ce34-41c9-dbda-5c953ee65dea"
   },
   "outputs": [],
   "source": [
    "from google.colab import drive\n",
    "drive.mount('/content/drive')"
   ]
  },
  {
   "cell_type": "code",
   "execution_count": 3,
   "metadata": {
    "id": "P2WdJRy5TxcH"
   },
   "outputs": [],
   "source": [
    "import spacy\n",
    "import pandas as pd\n",
    "\n",
    "from tqdm import tqdm\n",
    "from spacy.tokens import DocBin\n",
    "\n",
    "nlp = spacy.load('ru_core_news_sm')"
   ]
  },
  {
   "cell_type": "code",
   "execution_count": 4,
   "metadata": {
    "id": "i28Y2OvYVALD"
   },
   "outputs": [],
   "source": [
    "neg = pd.read_csv('/content/drive/MyDrive/NLP/negative.csv', encoding=\"utf8\", sep=';', header=None)\n",
    "pos = pd.read_csv('/content/drive/MyDrive/NLP/positive.csv', encoding=\"utf8\", sep=';', header=None)\n"
   ]
  },
  {
   "cell_type": "markdown",
   "metadata": {
    "id": "4gw3xeF7q9aI"
   },
   "source": [
    "## Preprocessing"
   ]
  },
  {
   "cell_type": "code",
   "execution_count": 5,
   "metadata": {
    "id": "hH2xFuXRq8Za"
   },
   "outputs": [],
   "source": [
    "df = pd.concat([neg, pos], ignore_index=True, sort=False)\n",
    "df = df.sample(frac=1)  # 0.5 половина данных\n",
    "df['sentiment'] = df[4]\n",
    "df['sentiment'] = df['sentiment'].replace(-1, 0)\n",
    "df['post'] = df[3]\n",
    "df = df[['post', 'sentiment']]\n",
    "\n",
    "# /content/drive/MyDrive/NLP/base_config.cfg"
   ]
  },
  {
   "cell_type": "code",
   "execution_count": 6,
   "metadata": {
    "colab": {
     "base_uri": "https://localhost:8080/",
     "height": 206
    },
    "id": "D_rgg5Ag8eGr",
    "outputId": "8ff1070d-d723-42ce-9f4a-8a3b842ec3b8"
   },
   "outputs": [
    {
     "data": {
      "text/html": [
       "\n",
       "  <div id=\"df-20dff064-f1ed-4313-a8b6-e0e5e1dd1106\">\n",
       "    <div class=\"colab-df-container\">\n",
       "      <div>\n",
       "<style scoped>\n",
       "    .dataframe tbody tr th:only-of-type {\n",
       "        vertical-align: middle;\n",
       "    }\n",
       "\n",
       "    .dataframe tbody tr th {\n",
       "        vertical-align: top;\n",
       "    }\n",
       "\n",
       "    .dataframe thead th {\n",
       "        text-align: right;\n",
       "    }\n",
       "</style>\n",
       "<table border=\"1\" class=\"dataframe\">\n",
       "  <thead>\n",
       "    <tr style=\"text-align: right;\">\n",
       "      <th></th>\n",
       "      <th>post</th>\n",
       "      <th>sentiment</th>\n",
       "    </tr>\n",
       "  </thead>\n",
       "  <tbody>\n",
       "    <tr>\n",
       "      <th>36299</th>\n",
       "      <td>народ есть ли аналог расширения All-in-One Sid...</td>\n",
       "      <td>0</td>\n",
       "    </tr>\n",
       "    <tr>\n",
       "      <th>221201</th>\n",
       "      <td>Сегодня праздновали мое др с телочками) было к...</td>\n",
       "      <td>1</td>\n",
       "    </tr>\n",
       "    <tr>\n",
       "      <th>79265</th>\n",
       "      <td>@marry_bravo а у меня ничего не осталось( ника...</td>\n",
       "      <td>0</td>\n",
       "    </tr>\n",
       "    <tr>\n",
       "      <th>127881</th>\n",
       "      <td>@juliarakhimova Это не надолго.Я щас норм обща...</td>\n",
       "      <td>1</td>\n",
       "    </tr>\n",
       "    <tr>\n",
       "      <th>190797</th>\n",
       "      <td>если у тебя есть машина, но нет прав, это не п...</td>\n",
       "      <td>1</td>\n",
       "    </tr>\n",
       "  </tbody>\n",
       "</table>\n",
       "</div>\n",
       "      <button class=\"colab-df-convert\" onclick=\"convertToInteractive('df-20dff064-f1ed-4313-a8b6-e0e5e1dd1106')\"\n",
       "              title=\"Convert this dataframe to an interactive table.\"\n",
       "              style=\"display:none;\">\n",
       "        \n",
       "  <svg xmlns=\"http://www.w3.org/2000/svg\" height=\"24px\"viewBox=\"0 0 24 24\"\n",
       "       width=\"24px\">\n",
       "    <path d=\"M0 0h24v24H0V0z\" fill=\"none\"/>\n",
       "    <path d=\"M18.56 5.44l.94 2.06.94-2.06 2.06-.94-2.06-.94-.94-2.06-.94 2.06-2.06.94zm-11 1L8.5 8.5l.94-2.06 2.06-.94-2.06-.94L8.5 2.5l-.94 2.06-2.06.94zm10 10l.94 2.06.94-2.06 2.06-.94-2.06-.94-.94-2.06-.94 2.06-2.06.94z\"/><path d=\"M17.41 7.96l-1.37-1.37c-.4-.4-.92-.59-1.43-.59-.52 0-1.04.2-1.43.59L10.3 9.45l-7.72 7.72c-.78.78-.78 2.05 0 2.83L4 21.41c.39.39.9.59 1.41.59.51 0 1.02-.2 1.41-.59l7.78-7.78 2.81-2.81c.8-.78.8-2.07 0-2.86zM5.41 20L4 18.59l7.72-7.72 1.47 1.35L5.41 20z\"/>\n",
       "  </svg>\n",
       "      </button>\n",
       "      \n",
       "  <style>\n",
       "    .colab-df-container {\n",
       "      display:flex;\n",
       "      flex-wrap:wrap;\n",
       "      gap: 12px;\n",
       "    }\n",
       "\n",
       "    .colab-df-convert {\n",
       "      background-color: #E8F0FE;\n",
       "      border: none;\n",
       "      border-radius: 50%;\n",
       "      cursor: pointer;\n",
       "      display: none;\n",
       "      fill: #1967D2;\n",
       "      height: 32px;\n",
       "      padding: 0 0 0 0;\n",
       "      width: 32px;\n",
       "    }\n",
       "\n",
       "    .colab-df-convert:hover {\n",
       "      background-color: #E2EBFA;\n",
       "      box-shadow: 0px 1px 2px rgba(60, 64, 67, 0.3), 0px 1px 3px 1px rgba(60, 64, 67, 0.15);\n",
       "      fill: #174EA6;\n",
       "    }\n",
       "\n",
       "    [theme=dark] .colab-df-convert {\n",
       "      background-color: #3B4455;\n",
       "      fill: #D2E3FC;\n",
       "    }\n",
       "\n",
       "    [theme=dark] .colab-df-convert:hover {\n",
       "      background-color: #434B5C;\n",
       "      box-shadow: 0px 1px 3px 1px rgba(0, 0, 0, 0.15);\n",
       "      filter: drop-shadow(0px 1px 2px rgba(0, 0, 0, 0.3));\n",
       "      fill: #FFFFFF;\n",
       "    }\n",
       "  </style>\n",
       "\n",
       "      <script>\n",
       "        const buttonEl =\n",
       "          document.querySelector('#df-20dff064-f1ed-4313-a8b6-e0e5e1dd1106 button.colab-df-convert');\n",
       "        buttonEl.style.display =\n",
       "          google.colab.kernel.accessAllowed ? 'block' : 'none';\n",
       "\n",
       "        async function convertToInteractive(key) {\n",
       "          const element = document.querySelector('#df-20dff064-f1ed-4313-a8b6-e0e5e1dd1106');\n",
       "          const dataTable =\n",
       "            await google.colab.kernel.invokeFunction('convertToInteractive',\n",
       "                                                     [key], {});\n",
       "          if (!dataTable) return;\n",
       "\n",
       "          const docLinkHtml = 'Like what you see? Visit the ' +\n",
       "            '<a target=\"_blank\" href=https://colab.research.google.com/notebooks/data_table.ipynb>data table notebook</a>'\n",
       "            + ' to learn more about interactive tables.';\n",
       "          element.innerHTML = '';\n",
       "          dataTable['output_type'] = 'display_data';\n",
       "          await google.colab.output.renderOutput(dataTable, element);\n",
       "          const docLink = document.createElement('div');\n",
       "          docLink.innerHTML = docLinkHtml;\n",
       "          element.appendChild(docLink);\n",
       "        }\n",
       "      </script>\n",
       "    </div>\n",
       "  </div>\n",
       "  "
      ],
      "text/plain": [
       "                                                     post  sentiment\n",
       "36299   народ есть ли аналог расширения All-in-One Sid...          0\n",
       "221201  Сегодня праздновали мое др с телочками) было к...          1\n",
       "79265   @marry_bravo а у меня ничего не осталось( ника...          0\n",
       "127881  @juliarakhimova Это не надолго.Я щас норм обща...          1\n",
       "190797  если у тебя есть машина, но нет прав, это не п...          1"
      ]
     },
     "execution_count": 6,
     "metadata": {},
     "output_type": "execute_result"
    }
   ],
   "source": [
    "df.head(5)"
   ]
  },
  {
   "cell_type": "markdown",
   "metadata": {
    "id": "kcLkNh2oe2Jb"
   },
   "source": [
    "#### относительно сбалансированно"
   ]
  },
  {
   "cell_type": "code",
   "execution_count": 7,
   "metadata": {
    "colab": {
     "base_uri": "https://localhost:8080/"
    },
    "id": "SGt2fEMSXEZ0",
    "outputId": "ba4dcc5a-3937-4aba-c0e2-774007e73b07"
   },
   "outputs": [
    {
     "data": {
      "text/plain": [
       "1    86008\n",
       "0    83992\n",
       "Name: sentiment, dtype: int64"
      ]
     },
     "execution_count": 7,
     "metadata": {},
     "output_type": "execute_result"
    }
   ],
   "source": [
    "df['sentiment'][:170000].value_counts()"
   ]
  },
  {
   "cell_type": "code",
   "execution_count": 8,
   "metadata": {
    "colab": {
     "base_uri": "https://localhost:8080/"
    },
    "id": "PFojKxOmq0hD",
    "outputId": "e8fe2f28-9bc1-487f-bb50-1f5cc2cc11d4"
   },
   "outputs": [
    {
     "data": {
      "text/plain": [
       "1    28903\n",
       "0    27931\n",
       "Name: sentiment, dtype: int64"
      ]
     },
     "execution_count": 8,
     "metadata": {},
     "output_type": "execute_result"
    }
   ],
   "source": [
    "df['sentiment'][170000:].value_counts()"
   ]
  },
  {
   "cell_type": "code",
   "execution_count": 9,
   "metadata": {
    "id": "j2kjzahmYQtn"
   },
   "outputs": [],
   "source": [
    "data = [tuple(df.iloc[i].values) for i in range(df.shape[0])]"
   ]
  },
  {
   "cell_type": "code",
   "execution_count": 10,
   "metadata": {
    "colab": {
     "base_uri": "https://localhost:8080/"
    },
    "id": "9f69XETU9KcL",
    "outputId": "22af0e3e-b026-490c-bf58-6eb396d726c6"
   },
   "outputs": [
    {
     "data": {
      "text/plain": [
       "[('народ есть ли аналог расширения All-in-One Sidebar  ? В 3.6b5 оно отказывается работать :(',\n",
       "  0),\n",
       " ('Сегодня праздновали мое др с телочками) было круто, люблб вааааас:* http://t.co/9Ybqv0tXlX',\n",
       "  1),\n",
       " ('@marry_bravo а у меня ничего не осталось( никаких салонов,Онли дом!', 0),\n",
       " ('@juliarakhimova Это не надолго.Я щас норм общаюсь;)', 1),\n",
       " ('если у тебя есть машина, но нет прав, это не повод брать папину тачку без спорса))',\n",
       "  1)]"
      ]
     },
     "execution_count": 10,
     "metadata": {},
     "output_type": "execute_result"
    }
   ],
   "source": [
    "data[:5]"
   ]
  },
  {
   "cell_type": "code",
   "execution_count": 11,
   "metadata": {
    "id": "Zn9zMDtBZB4c"
   },
   "outputs": [],
   "source": [
    "train_data = data[:170000]\n",
    "valid_data = data[170000:]"
   ]
  },
  {
   "cell_type": "code",
   "execution_count": 12,
   "metadata": {
    "id": "bOcGGOoEZHTV"
   },
   "outputs": [],
   "source": [
    "def make_docs(data):\n",
    "  \"\"\"\n",
    "  this will take a list of texts and labels\n",
    "  and transform them in spacy documents\n",
    "  \n",
    "  \"\"\"\n",
    "\n",
    "  docs = []\n",
    "  # pbar = tqdm(nlp.pipe(data, as_tuples=True), total = len(data))\n",
    "  for doc, label in tqdm(nlp.pipe(data, as_tuples=True), total = len(data)):\n",
    "    if label == 0:\n",
    "      doc.cats['positive'] = 0\n",
    "      doc.cats['negative'] = 1\n",
    "    else:\n",
    "      doc.cats['positive'] = 1\n",
    "      doc.cats['negative'] = 0\n",
    "    docs.append(doc)\n",
    "  return docs\n"
   ]
  },
  {
   "cell_type": "markdown",
   "metadata": {
    "id": "Mm9Ykm1-fgqv"
   },
   "source": [
    "#### отправил все данные"
   ]
  },
  {
   "cell_type": "code",
   "execution_count": 13,
   "metadata": {
    "colab": {
     "base_uri": "https://localhost:8080/"
    },
    "id": "Ea7owc23ab9S",
    "outputId": "aae43691-1f6f-4249-db4a-59c4a17c7333"
   },
   "outputs": [
    {
     "name": "stderr",
     "output_type": "stream",
     "text": [
      "100%|██████████| 170000/170000 [10:46<00:00, 262.85it/s]\n"
     ]
    }
   ],
   "source": [
    "num_texts = 100  # чтобы быстрее, но лучше брать максимальное кол-во данных, которое мы можем прогнать\n",
    "\n",
    "train_docs = make_docs(train_data)"
   ]
  },
  {
   "cell_type": "code",
   "execution_count": 14,
   "metadata": {
    "colab": {
     "base_uri": "https://localhost:8080/"
    },
    "id": "DT8DuRfUch1M",
    "outputId": "5e14c610-2618-49b8-c6a9-afd2e1edafdf"
   },
   "outputs": [
    {
     "name": "stderr",
     "output_type": "stream",
     "text": [
      "100%|██████████| 56834/56834 [03:35<00:00, 263.33it/s]\n"
     ]
    }
   ],
   "source": [
    "doc_bin = DocBin(docs=train_docs)\n",
    "doc_bin.to_disk(\"train.spacy\")\n",
    "\n",
    "valid_docs = make_docs(valid_data)\n",
    "doc_bin = DocBin(docs=valid_docs)\n",
    "doc_bin.to_disk(\"valid.spacy\")"
   ]
  },
  {
   "cell_type": "markdown",
   "metadata": {
    "id": "UWrn2HUJFrUn"
   },
   "source": [
    "## Config"
   ]
  },
  {
   "cell_type": "code",
   "execution_count": 15,
   "metadata": {
    "colab": {
     "base_uri": "https://localhost:8080/"
    },
    "id": "hCKj3bkxfPnf",
    "outputId": "0703a2fd-3371-4a10-cc01-26734afffcf5"
   },
   "outputs": [
    {
     "name": "stdout",
     "output_type": "stream",
     "text": [
      "\u001b[38;5;2m✔ Auto-filled config with all values\u001b[0m\n",
      "\u001b[38;5;2m✔ Saved config\u001b[0m\n",
      "config.cfg\n",
      "You can now add your data and train your pipeline:\n",
      "python -m spacy train config.cfg --paths.train ./train.spacy --paths.dev ./dev.spacy\n"
     ]
    }
   ],
   "source": [
    "!python -m spacy init fill-config /content/drive/MyDrive/NLP/base_config.cfg config.cfg"
   ]
  },
  {
   "cell_type": "code",
   "execution_count": 16,
   "metadata": {
    "id": "i7Emvzpph7zk"
   },
   "outputs": [],
   "source": [
    "# пара вещей с конфига:\n",
    "# threshold = 0.5 # пороговое значение вероятностb, по тому, что модель может предсказывать категории\n",
    "# train = 'train.spacy'\n",
    "# dev = 'valid.spacy' \n",
    "\n",
    "# в training разделе\n",
    "# patience = 1600 терпение в шагах, сколько шагов мы можем потерпеть без улучшений, прежде, чем остановиться\n",
    "# max_steps = 6000 макс шагов в тренировке\n",
    "# eval_frequency = 200 размер шага\n",
    "# там же можно поставить dropout\n",
    "# на gpu не тренирует, судя по сайту, для использования gpu в spacy надо тренировать трансформер --gpu-id 0\n"
   ]
  },
  {
   "cell_type": "markdown",
   "metadata": {
    "id": "zCjNNVLeycvt"
   },
   "source": [
    "![image.png](data:image/png;base64,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)"
   ]
  },
  {
   "cell_type": "markdown",
   "metadata": {
    "id": "SgQO53oHfq11"
   },
   "source": [
    "## Train"
   ]
  },
  {
   "cell_type": "markdown",
   "metadata": {
    "id": "1Aps93maetP5"
   },
   "source": [
    "#### Ограничил 6000 шагами, либо 1600 patience"
   ]
  },
  {
   "cell_type": "code",
   "execution_count": 19,
   "metadata": {
    "colab": {
     "base_uri": "https://localhost:8080/"
    },
    "id": "6x3T9hPZkgKn",
    "outputId": "398d957f-1a24-4a3a-ec26-bb3b752b7c4b"
   },
   "outputs": [
    {
     "name": "stdout",
     "output_type": "stream",
     "text": [
      "\u001b[38;5;4mℹ Saving to output directory: output\u001b[0m\n",
      "\u001b[38;5;4mℹ Using CPU\u001b[0m\n",
      "\u001b[38;5;4mℹ To switch to GPU 0, use the option: --gpu-id 0\u001b[0m\n",
      "\u001b[1m\n",
      "=========================== Initializing pipeline ===========================\u001b[0m\n",
      "[2022-10-27 06:23:36,959] [INFO] Set up nlp object from config\n",
      "INFO:spacy:Set up nlp object from config\n",
      "[2022-10-27 06:23:36,978] [INFO] Pipeline: ['textcat']\n",
      "INFO:spacy:Pipeline: ['textcat']\n",
      "[2022-10-27 06:23:36,984] [INFO] Created vocabulary\n",
      "INFO:spacy:Created vocabulary\n",
      "[2022-10-27 06:23:36,986] [INFO] Finished initializing nlp object\n",
      "INFO:spacy:Finished initializing nlp object\n",
      "[2022-10-27 06:25:07,689] [INFO] Initialized pipeline components: ['textcat']\n",
      "INFO:spacy:Initialized pipeline components: ['textcat']\n",
      "\u001b[38;5;2m✔ Initialized pipeline\u001b[0m\n",
      "\u001b[1m\n",
      "============================= Training pipeline =============================\u001b[0m\n",
      "\u001b[38;5;4mℹ Pipeline: ['textcat']\u001b[0m\n",
      "\u001b[38;5;4mℹ Initial learn rate: 0.001\u001b[0m\n",
      "E    #       LOSS TEXTCAT  CATS_SCORE  SCORE \n",
      "---  ------  ------------  ----------  ------\n",
      "  0       0          0.25       45.91    0.46\n",
      "  0     200         17.72       97.24    0.97\n",
      "  0     400          4.47       98.05    0.98\n",
      "  0     600          3.71       98.10    0.98\n",
      "  0     800          3.08       98.46    0.98\n",
      "  0    1000          2.73       98.65    0.99\n",
      "  0    1200          2.70       98.70    0.99\n",
      "  0    1400          1.69       98.99    0.99\n",
      "  0    1600          1.37       98.59    0.99\n",
      "  0    1800          1.49       99.27    0.99\n",
      "  0    2000          1.28       99.25    0.99\n",
      "  0    2200          1.28       99.41    0.99\n",
      "  0    2400          1.16       99.37    0.99\n",
      "  0    2600          1.14       99.45    0.99\n",
      "  0    2800          1.06       99.48    0.99\n",
      "  0    3000          0.95       99.49    0.99\n",
      "  0    3200          0.98       99.29    0.99\n",
      "  0    3400          0.79       99.53    1.00\n",
      "  0    3600          0.82       99.57    1.00\n",
      "  0    3800          0.88       99.58    1.00\n",
      "  0    4000          0.62       99.62    1.00\n",
      "  0    4200          0.63       99.29    0.99\n",
      "  1    4400          0.50       99.60    1.00\n",
      "  1    4600          0.34       99.62    1.00\n",
      "  1    4800          0.32       99.60    1.00\n",
      "  1    5000          0.42       99.62    1.00\n",
      "  1    5200          0.51       99.60    1.00\n",
      "  1    5400          0.33       99.57    1.00\n",
      "  1    5600          0.53       99.63    1.00\n",
      "  1    5800          0.45       99.61    1.00\n",
      "  1    6000          0.41       99.61    1.00\n",
      "\u001b[38;5;2m✔ Saved pipeline to output directory\u001b[0m\n",
      "output/model-last\n"
     ]
    }
   ],
   "source": [
    "! python -m spacy train config.cfg --output ./output\n"
   ]
  },
  {
   "cell_type": "code",
   "execution_count": 20,
   "metadata": {
    "id": "Beaja-uaZHnW"
   },
   "outputs": [],
   "source": [
    "!cp -r output/ /content/drive/MyDrive/NLP/spacy/cnnoutput "
   ]
  },
  {
   "cell_type": "markdown",
   "metadata": {
    "id": "p8QQynRoFuob"
   },
   "source": [
    "## Inference"
   ]
  },
  {
   "cell_type": "markdown",
   "metadata": {
    "id": "Nu-9gi-sfLhX"
   },
   "source": [
    "#### Возьмем немного первых попавшихся записей с Твиттера"
   ]
  },
  {
   "cell_type": "code",
   "execution_count": 23,
   "metadata": {
    "colab": {
     "base_uri": "https://localhost:8080/"
    },
    "id": "s_CC7zmOkqxM",
    "outputId": "a9f310ff-7e37-4aeb-81ba-513993f2ce89"
   },
   "outputs": [
    {
     "name": "stdout",
     "output_type": "stream",
     "text": [
      "type : ‘quit’ to exit\n",
      "Please enter example input: Без религии страна обойтись может. Без образования и науки она умрет.\n",
      "{'positive': 0.00989675521850586, 'negative': 0.9901032447814941}\n",
      "the sentiment is negative\n",
      "Please enter example input: Они держатся за руки Я ПОВТОРЯЮ ОНИ ДЕРЖАТСЯ ЗА РУКИ\n",
      "{'positive': 0.8839454650878906, 'negative': 0.11605455726385117}\n",
      "the sentiment is positive\n",
      "Please enter example input: мои фламандские коллеги занимаются отрицанием и произносят Neg как Нехь\n",
      "{'positive': 0.15724621713161469, 'negative': 0.8427538275718689}\n",
      "the sentiment is negative\n",
      "Please enter example input: мне пытались объяснить что даже асексуалом можно быть бисексуалом короче я совсем запуталась я плесень в чашке петри все эти ориентации и гендеры не про меня\n",
      "{'positive': 0.05416664108633995, 'negative': 0.9458333253860474}\n",
      "the sentiment is negative\n",
      "Please enter example input: Дочка всего вторую неделю школьница, а я уже оказалась в шутке, где в 20:00 выясняется, что завтра в школу надо принести с собой тыкву\n",
      "{'positive': 0.04871901124715805, 'negative': 0.9512810111045837}\n",
      "the sentiment is negative\n",
      "Please enter example input: Я: /полезла читать про Пушкина/  Интернет: Пушкина могли казнить вместе с декабристами, но его спас заяц\n",
      "{'positive': 0.9643096923828125, 'negative': 0.035690296441316605}\n",
      "the sentiment is positive\n",
      "Please enter example input: Мой любимый котик))))\n",
      "{'positive': 1.0, 'negative': 4.5674039631066337e-35}\n",
      "the sentiment is positive\n",
      "Please enter example input: quit\n",
      "{'positive': 1.7847613120611444e-15, 'negative': 1.0}\n",
      "the sentiment is negative\n"
     ]
    }
   ],
   "source": [
    "# load thebest model from training\n",
    "nlp = spacy.load(\"output/model-best\")\n",
    "text = \"\"\n",
    "print(\"type : ‘quit’ to exit\")\n",
    "# predict the sentiment until someone writes quit\n",
    "while text != \"quit\":\n",
    "    text = input(\"Please enter example input: \")\n",
    "    doc = nlp(text)\n",
    "    print(doc.cats)\n",
    "    if doc.cats['positive'] >.5:\n",
    "        print(f\"the sentiment is positive\")\n",
    "    else:\n",
    "        print(f\"the sentiment is negative\")"
   ]
  },
  {
   "cell_type": "markdown",
   "metadata": {
    "id": "GJdqddoin8Ya"
   },
   "source": [
    "## Only inference\n",
    "загрузка обученной модели с диска\n",
    "\n"
   ]
  },
  {
   "cell_type": "code",
   "execution_count": null,
   "metadata": {
    "id": "eSAHX9AQljzL"
   },
   "outputs": [],
   "source": [
    "!python -m spacy download ru_core_news_sm\n",
    "from google.colab import drive\n",
    "drive.mount('/content/drive')\n",
    "import spacy\n",
    "import pandas as pd\n",
    "\n",
    "from tqdm import tqdm\n",
    "from spacy.tokens import DocBin\n",
    "\n",
    "nlp = spacy.load('ru_core_news_sm')"
   ]
  },
  {
   "cell_type": "code",
   "execution_count": null,
   "metadata": {
    "id": "6d5Sqiz7nSrz"
   },
   "outputs": [],
   "source": [
    "# load thebest model from training\n",
    "nlp = spacy.load(\"/content/drive/MyDrive/NLP/spacy/cnnoutput/model-last\")\n",
    "text = \"\"\n",
    "print(\"type : ‘quit’ to exit\")\n",
    "# predict the sentiment until someone writes quit\n",
    "while text != \"quit\":\n",
    "    text = input(\"Please enter example input: \")\n",
    "    doc = nlp(text)\n",
    "    print(doc.cats)\n",
    "    if doc.cats['positive'] >.5:\n",
    "        print(f\"the sentiment is positive\")\n",
    "    else:\n",
    "        print(f\"the sentiment is negative\")"
   ]
  },
  {
   "cell_type": "code",
   "execution_count": null,
   "metadata": {
    "id": "lb8i3ZS3oIEB"
   },
   "outputs": [],
   "source": []
  }
 ],
 "metadata": {
  "accelerator": "GPU",
  "colab": {
   "collapsed_sections": [],
   "provenance": []
  },
  "kernelspec": {
   "display_name": "Python 3 (ipykernel)",
   "language": "python",
   "name": "python3"
  },
  "language_info": {
   "codemirror_mode": {
    "name": "ipython",
    "version": 3
   },
   "file_extension": ".py",
   "mimetype": "text/x-python",
   "name": "python",
   "nbconvert_exporter": "python",
   "pygments_lexer": "ipython3",
   "version": "3.8.10"
  }
 },
 "nbformat": 4,
 "nbformat_minor": 1
}
